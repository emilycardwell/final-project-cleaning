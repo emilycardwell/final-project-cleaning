{
 "cells": [
  {
   "cell_type": "markdown",
   "metadata": {},
   "source": [
    "# Preprocess calls"
   ]
  },
  {
   "cell_type": "markdown",
   "metadata": {},
   "source": [
    "### Imports"
   ]
  },
  {
   "cell_type": "code",
   "execution_count": 1,
   "metadata": {},
   "outputs": [],
   "source": [
    "import sys \n",
    "sys.path.append('/Users/Emily/code/emilycardwell/final-project-cleaning/py_files')"
   ]
  },
  {
   "cell_type": "code",
   "execution_count": 2,
   "metadata": {},
   "outputs": [],
   "source": [
    "import pandas as pd\n",
    "import os.path\n",
    "\n",
    "from string_cleaning import drop_dups_cols, clean_chords\n",
    "from genre_cleaning import genre_cleaning\n",
    "from columns import new_columns, song_length\n",
    "from get_data_slice import filter_length, get_songs\n",
    "from utils import df_to_csv, count_chords, count_genres, count_artists"
   ]
  },
  {
   "cell_type": "markdown",
   "metadata": {},
   "source": [
    "## Read Data"
   ]
  },
  {
   "cell_type": "code",
   "execution_count": 16,
   "metadata": {},
   "outputs": [],
   "source": [
    "#file_to_open = os.path.join('path from user to foler', 'data_folder', 'raw', 'file.ext')\n",
    "my_path = os.path.join('~/code/emilycardwell/final-project-data', \n",
    "                            'data', 'raw', 'chords_and_lyrics.csv')\n",
    "raw_kaggle_df = pd.read_csv(my_path)"
   ]
  },
  {
   "cell_type": "code",
   "execution_count": 18,
   "metadata": {},
   "outputs": [
    {
     "data": {
      "text/html": [
       "<div>\n",
       "<style scoped>\n",
       "    .dataframe tbody tr th:only-of-type {\n",
       "        vertical-align: middle;\n",
       "    }\n",
       "\n",
       "    .dataframe tbody tr th {\n",
       "        vertical-align: top;\n",
       "    }\n",
       "\n",
       "    .dataframe thead th {\n",
       "        text-align: right;\n",
       "    }\n",
       "</style>\n",
       "<table border=\"1\" class=\"dataframe\">\n",
       "  <thead>\n",
       "    <tr style=\"text-align: right;\">\n",
       "      <th></th>\n",
       "      <th>_START_ C:maj C:maj C:maj C:maj C:maj C:maj C:maj C:maj G:9 G:9 G:9 G:9 G:9 G:9 G:9 G:9 C:9 C:9 C:9 C:9 C:7 C:7 C:7 C:7 F:maj F:maj F:maj F:maj F:min7 F:min7 F:min7 F:min7 C:maj C:maj C:maj C:maj G:min7 G:min7 G:min7 G:min7 A:7 A:7 A:7 A:7 D:9 D:9 D:9 D:9 G:9 G:9 G:9 G:9 E:min7 E:min7 G:7 G:7 C:maj C:maj C:maj C:maj C:maj C:maj C:maj C:maj A:min7 A:min7 A:min7 A:min7 A:min7 A:min7 A:min7 A:min7 E:min7 E:min7 E:min7 E:min7 E:min7 E:min7 E:min7 E:min7 F:maj7 F:maj7 F:maj7 F:maj7 F:7 F:7 F:7 F:7 C:maj C:maj C:maj C:maj C:maj C:maj C:7 C:7 F:maj F:maj F:maj F:maj F:min7 F:min7 F:min7 F:min7 C:maj C:maj C:maj C:maj A:7 A:7 A:7 A:7 D:7 D:7 D:7 D:7 D:7 D:7 G:7 G:7 C:maj C:maj C:maj C:maj C:maj C:maj G:7 G:7 _END_ _START_ D#:maj D#:maj D#:maj D#:maj D#:maj D#:maj A#:7 A#:7 D#:maj D#:maj D#:maj D#:maj G:min G:min G:min G:min D#:maj D#:maj D#:maj D#:maj D#:maj D#:maj A#:7 A#:7 D#:maj D#:maj D#:maj D#:maj B:7 B:7 A#:7 A#:7 D#:maj D#:maj D#:maj D#:maj D#:maj D#:maj A#:7 A#:7 D#:maj D#:maj D#:maj D#:maj D#:7 D#:7 D#:7 D#:7 G:maj/5 G:maj/5 G:maj/5 G:maj/5 G:maj/5 G:maj/5 D:7 D:7 G:maj G:maj G:maj G:maj A#:7/5 A#:7/5 A#:7/5 A#:7/5 D#:7 D#:7 D#:7 D#:7 D#:7 D#:7 D:7 D:7 G:7 G:7 G:dim G:dim G:maj G:maj D:7 G:maj C:maj C:maj C:maj C:maj C:maj C:maj C:maj C:maj E:min E:min E:min E:min E:min E:min C:7 C:7 F:maj F:maj F:maj F:maj F:maj F:maj F:maj F:maj A:7 A:7 A:7 A:7 A:7 A:7 A:7 A:7 D:min D:min D:min D:min D:hdim D:hdim D:hdim D:hdim C:maj/5 C:maj/5 C:maj/5 C:maj/5 C:7 C:7 C:7 C:7 B:7 B:7 B:7 B:7 B:7 B:7 B:7 B:7 E:7 E:7 E:7 E:7 G:7 G:7 G:7 G:7 C:maj C:maj C:maj C:maj C:maj C:maj C:maj C:maj E:min E:min E:min E:min E:min E:min C:7 C:7 F:maj F:maj F:maj F:maj F:maj F:maj F:maj F:maj E:maj E:maj E:maj E:maj E:maj E:maj E:maj E:maj F:maj F:maj F:maj F:maj F:maj F:maj F#:dim F#:dim C:maj C:maj C:maj/7 C:maj/b7 A:7 A:7 A:7 A:7 D:7 D:7 D:7 D:7 G:7 G:7 G:7 G:7 C:maj C:maj C:maj C:maj G:maj G:maj D:7 G:maj C:maj C:maj C:maj C:maj C:maj C:maj C:maj C:maj E:min E:min E:min E:min E:min E:min C:7 C:7 F:maj F:maj F:maj F:maj F:maj F:maj F:maj F:maj A:7 A:7 A:7 A:7 A:7 A:7 A:7 A:7 D:min D:min D:min D:min D:hdim D:hdim D:hdim D:hdim C:maj/5 C:maj/5 C:maj/5 C:maj/5 C:7 C:7 C:7 C:7 B:7 B:7 B:7 B:7 B:7 B:7 B:7 B:7 E:7 E:7 E:7 E:7 G:7 G:7 G:7 G:7 C:maj C:maj C:maj C:maj C:maj C:maj C:maj C:maj E:min E:min E:min E:min E:min E:min C:7 C:7 F:maj F:maj F:maj F:maj F:maj F:maj F:maj F:maj E:maj E:maj E:maj E:maj E:maj E:maj E:maj E:maj F:maj F:maj F:maj F:maj F:maj F:maj F#:dim F#:dim C:maj C:maj C:maj/7 C:maj/b7 A:7 A:7 A:7 A:7 D:7 D:7 D:7 D:7 G:7 G:7 G:7 G:7 C:maj C:maj C:maj C:maj G:maj G:maj D:7 G:maj C:maj C:maj C:maj C:maj C:maj C:maj C:maj C:maj E:min E:min E:min E:min E:min E:min C:7 C:7 F:maj F:maj F:maj F:maj F:maj F:maj F:maj F:maj A:7 A:7 A:7 A:7 A:7 A:7 A:7 A:7 D:min D:min D:min D:min D:hdim D:hdim D:hdim D:hdim C:maj/5 C:maj/5 C:maj/5 C:maj/5 C:7 C:7 C:7 C:7 B:7 B:7 B:7 B:7 B:7 B:7 B:7 B:7 E:7 E:7 E:7 E:7 G:7 G:7 G:7 G:7 C:maj C:maj C:maj C:maj C:maj C:maj C:maj C:maj E:min E:min E:min E:min E:min E:min C:7 C:7 F:maj F:maj F:maj F:maj F:maj F:maj F:maj F:maj E:maj E:maj E:maj E:maj E:maj E:maj E:maj E:maj F:maj F:maj F:maj F:maj F:maj F:maj F#:dim F#:dim C:maj C:maj C:maj/7 C:maj/b7 A:7 A:7 A:7 A:7 D:7 D:7 D:7 D:7 G:7 G:7 G:7 G:7 C:maj C:maj C:maj C:maj G:maj G:maj D:7 G:maj _END_ _START_ C:maj7 C:maj7 D:min7 D:min7 E:min7 E:min7 D:min7 D:min7 C:maj7 C:maj7 D:min7 D:min7 E:min7 E:min7 D:min7 D:min7 C:maj C:maj A:min7 A:min7 D:min7 D:min7 G:7 G:7 C:maj C:maj A:min7 A:min7 D:min7 D:min7 G:7 G:7 C:maj C:maj A:min7 A:min7 D:9 D:9 G:7 G:7 C:maj C:maj A:7 A:7 D:min7 D:min7 G:7 G:7(s5</th>\n",
       "      <th>*5) C:maj C:maj A:min7 A:min7 D:min7 D:min7 G:7 G:7 C:maj C:maj A:min7 A:min7 D:min7 D:min7 G:7 G:7 C:maj C:maj A:min7 A:min7 D:min7 D:min7 G:7 G:7 C:maj C:maj D:min7 D:min7 D#:dim D#:dim C:maj/3 C:maj/3 D:min7 D:min7 G:7 G:7 C:maj C:maj C#:dim C#:dim D:min7 D:min7 G:7 G:7 C:maj C:maj C:maj C:maj B:hdim B:hdim E:7 E:7 A:min7 A:min7 A:min7 A:min7 D:9 D:9 D:9 D:9 G:7 G:7 G:9(s5</th>\n",
       "      <th>*5) G:9(s5</th>\n",
       "      <th>*5) C:maj C:maj A:min7 A:min7 D:min7 D:min7 G:7 G:7 C:maj C:maj A:min7 A:min7 D:min7 D:min7 G:7 G:7 C:maj C:maj A:min7 A:min7 D:9 D:9 G:7 G:7 C:maj C:maj D#:dim D#:dim D:min7 D:min7 G:7 G:9(s5</th>\n",
       "      <th>*5) _END_ _START_ C:maj7/5 C:maj7/5 A:min7 A:min7 D:min7 D:min7 G:maj(b7</th>\n",
       "      <th>b9</th>\n",
       "      <th>11</th>\n",
       "      <th>13) G:maj(b7</th>\n",
       "      <th>b9.1</th>\n",
       "      <th>11.1</th>\n",
       "      <th>...</th>\n",
       "      <th>9.11264</th>\n",
       "      <th>11) G:7 G:7 G:7 G:7 G:7 G:7 C:maj C:maj C:maj C:maj _END_ _START_ C:maj C:maj C:maj C:maj C:maj C:maj C:maj C:maj C:maj C:maj C:maj C:maj C:maj C:maj C:maj C:maj F:7 F:7 F:7 F:7 F:7 F:7 F:7 F:7 C:maj C:maj C:maj C:maj C:maj C:maj C:maj C:maj G:sus4(b7</th>\n",
       "      <th>9) G:sus4(b7.713</th>\n",
       "      <th>9) G:sus4(b7.714</th>\n",
       "      <th>9) G:sus4(b7.715</th>\n",
       "      <th>9) G:sus4(b7.716</th>\n",
       "      <th>9) G:sus4(b7.717</th>\n",
       "      <th>9) G:sus4(b7.718</th>\n",
       "      <th>9) G:sus4(b7.719</th>\n",
       "      <th>9) C:maj C:maj C:maj C:maj C:maj C:maj C:maj C:maj C:7 C:7 C:7 C:7 C:maj C:maj C:maj C:maj C:7 C:7 C:7 C:7 C:maj C:maj C:maj C:maj _END_ _START_ C:maj C:maj C:maj C:maj F:min F:min F:min F:min C:maj C:maj C:maj C:maj F:min F:min F:min F:min E:min7 E:min7 D#:min7 D#:min7 D:7 D:7 G:7 G:7 C:maj C:maj C:maj C:maj C:maj C:maj C:maj C:maj E:min E:min E:min E:min B:7 B:7 B:7 B:7 E:min E:min E:min E:min B:7 B:7 B:7 B:7 E:min E:min E:min E:min B:7 B:7 B:7 B:7 E:min7 E:min7 D#:min7 D#:min7 D:7 D:7 G:7 G:7 C:maj C:maj C:maj C:maj F:min F:min F:min F:min C:maj C:maj C:maj C:maj F:min F:min F:min F:min E:min7 E:min7 D#:min7 D#:min7 D:7 D:7 G:7 G:7 C:maj C:maj C:maj C:maj C:maj C:maj C:maj C:maj _END_ _START_ C:maj C:maj C:maj C:maj G#:7 G#:7 G#:7 G#:7 C:maj C:maj C:maj C:maj C:maj C:maj C:maj C:maj C:maj C:maj C:maj C:maj G#:7 G#:7 G#:7 G#:7 C:maj C:maj C:maj C:maj C:maj C:maj C:maj C:maj C:maj C:maj C:maj C:maj C:maj C:maj C:maj C:maj C:maj C:maj C:maj C:maj G#:7 G#:7 G#:7 G#:7 C:maj C:maj C:maj C:maj G#:7 G#:7 G#:7 G#:7 C:maj C:maj C:maj C:maj G#:7 G#:7 G#:7 G#:7 C:7 C:7 C:7 C:7 C:7 C:7 C:7 C:7 C:maj C:maj C:maj C:maj G#:7 G#:7 G#:7 G#:7 C:maj C:maj C:maj C:maj G#:7 G#:7 G#:7 G#:7 C:maj C:maj C:maj C:maj G#:7 G#:7 G#:7 G#:7 C:7 C:7 C:7 C:7 C:maj C:maj C:maj C:maj C:maj C:maj C:maj C:maj C:maj C:maj C:maj C:maj C:maj C:maj C:maj C:maj C:maj C:maj C:maj C:maj C:maj C:maj C:maj C:maj C:maj C:maj C:maj C:maj C:maj C:maj C:maj C:maj C:maj C:maj C:maj C:maj G#:maj G#:maj G#:maj G#:maj E:7 E:7 E:7 E:7 G#:maj G#:maj G#:maj G#:maj E:7 E:7 E:7 E:7 G#:7 G#:7 G#:7 G#:7 G#:7 G#:7 G#:7 G#:7 G#:7 G#:7 G#:7 G#:7 G#:7 G#:7 G#:7 G#:7 _END_</th>\n",
       "    </tr>\n",
       "  </thead>\n",
       "  <tbody>\n",
       "  </tbody>\n",
       "</table>\n",
       "<p>0 rows × 51175 columns</p>\n",
       "</div>"
      ],
      "text/plain": [
       "Empty DataFrame\n",
       "Columns: [_START_ C:maj C:maj C:maj C:maj C:maj C:maj C:maj C:maj G:9 G:9 G:9 G:9 G:9 G:9 G:9 G:9 C:9 C:9 C:9 C:9 C:7 C:7 C:7 C:7 F:maj F:maj F:maj F:maj F:min7 F:min7 F:min7 F:min7 C:maj C:maj C:maj C:maj G:min7 G:min7 G:min7 G:min7 A:7 A:7 A:7 A:7 D:9 D:9 D:9 D:9 G:9 G:9 G:9 G:9 E:min7 E:min7 G:7 G:7 C:maj C:maj C:maj C:maj C:maj C:maj C:maj C:maj A:min7 A:min7 A:min7 A:min7 A:min7 A:min7 A:min7 A:min7 E:min7 E:min7 E:min7 E:min7 E:min7 E:min7 E:min7 E:min7 F:maj7 F:maj7 F:maj7 F:maj7 F:7 F:7 F:7 F:7 C:maj C:maj C:maj C:maj C:maj C:maj C:7 C:7 F:maj F:maj F:maj F:maj F:min7 F:min7 F:min7 F:min7 C:maj C:maj C:maj C:maj A:7 A:7 A:7 A:7 D:7 D:7 D:7 D:7 D:7 D:7 G:7 G:7 C:maj C:maj C:maj C:maj C:maj C:maj G:7 G:7 _END_ _START_ D#:maj D#:maj D#:maj D#:maj D#:maj D#:maj A#:7 A#:7 D#:maj D#:maj D#:maj D#:maj G:min G:min G:min G:min D#:maj D#:maj D#:maj D#:maj D#:maj D#:maj A#:7 A#:7 D#:maj D#:maj D#:maj D#:maj B:7 B:7 A#:7 A#:7 D#:maj D#:maj D#:maj D#:maj D#:maj D#:maj A#:7 A#:7 D#:maj D#:maj D#:maj D#:maj D#:7 D#:7 D#:7 D#:7 G:maj/5 G:maj/5 G:maj/5 G:maj/5 G:maj/5 G:maj/5 D:7 D:7 G:maj G:maj G:maj G:maj A#:7/5 A#:7/5 A#:7/5 A#:7/5 D#:7 D#:7 D#:7 D#:7 D#:7 D#:7 D:7 D:7 G:7 G:7 G:dim G:dim G:maj G:maj D:7 G:maj C:maj C:maj C:maj C:maj C:maj C:maj C:maj C:maj E:min E:min E:min E:min E:min E:min C:7 C:7 F:maj F:maj F:maj F:maj F:maj F:maj F:maj F:maj A:7 A:7 A:7 A:7 A:7 A:7 A:7 A:7 D:min D:min D:min D:min D:hdim D:hdim D:hdim D:hdim C:maj/5 C:maj/5 C:maj/5 C:maj/5 C:7 C:7 C:7 C:7 B:7 B:7 B:7 B:7 B:7 B:7 B:7 B:7 E:7 E:7 E:7 E:7 G:7 G:7 G:7 G:7 C:maj C:maj C:maj C:maj C:maj C:maj C:maj C:maj E:min E:min E:min E:min E:min E:min C:7 C:7 F:maj F:maj F:maj F:maj F:maj F:maj F:maj F:maj E:maj E:maj E:maj E:maj E:maj E:maj E:maj E:maj F:maj F:maj F:maj F:maj F:maj F:maj F#:dim F#:dim C:maj C:maj C:maj/7 C:maj/b7 A:7 A:7 A:7 A:7 D:7 D:7 D:7 D:7 G:7 G:7 G:7 G:7 C:maj C:maj C:maj C:maj G:maj G:maj D:7 G:maj C:maj C:maj C:maj C:maj C:maj C:maj C:maj C:maj E:min E:min E:min E:min E:min E:min C:7 C:7 F:maj F:maj F:maj F:maj F:maj F:maj F:maj F:maj A:7 A:7 A:7 A:7 A:7 A:7 A:7 A:7 D:min D:min D:min D:min D:hdim D:hdim D:hdim D:hdim C:maj/5 C:maj/5 C:maj/5 C:maj/5 C:7 C:7 C:7 C:7 B:7 B:7 B:7 B:7 B:7 B:7 B:7 B:7 E:7 E:7 E:7 E:7 G:7 G:7 G:7 G:7 C:maj C:maj C:maj C:maj C:maj C:maj C:maj C:maj E:min E:min E:min E:min E:min E:min C:7 C:7 F:maj F:maj F:maj F:maj F:maj F:maj F:maj F:maj E:maj E:maj E:maj E:maj E:maj E:maj E:maj E:maj F:maj F:maj F:maj F:maj F:maj F:maj F#:dim F#:dim C:maj C:maj C:maj/7 C:maj/b7 A:7 A:7 A:7 A:7 D:7 D:7 D:7 D:7 G:7 G:7 G:7 G:7 C:maj C:maj C:maj C:maj G:maj G:maj D:7 G:maj C:maj C:maj C:maj C:maj C:maj C:maj C:maj C:maj E:min E:min E:min E:min E:min E:min C:7 C:7 F:maj F:maj F:maj F:maj F:maj F:maj F:maj F:maj A:7 A:7 A:7 A:7 A:7 A:7 A:7 A:7 D:min D:min D:min D:min D:hdim D:hdim D:hdim D:hdim C:maj/5 C:maj/5 C:maj/5 C:maj/5 C:7 C:7 C:7 C:7 B:7 B:7 B:7 B:7 B:7 B:7 B:7 B:7 E:7 E:7 E:7 E:7 G:7 G:7 G:7 G:7 C:maj C:maj C:maj C:maj C:maj C:maj C:maj C:maj E:min E:min E:min E:min E:min E:min C:7 C:7 F:maj F:maj F:maj F:maj F:maj F:maj F:maj F:maj E:maj E:maj E:maj E:maj E:maj E:maj E:maj E:maj F:maj F:maj F:maj F:maj F:maj F:maj F#:dim F#:dim C:maj C:maj C:maj/7 C:maj/b7 A:7 A:7 A:7 A:7 D:7 D:7 D:7 D:7 G:7 G:7 G:7 G:7 C:maj C:maj C:maj C:maj G:maj G:maj D:7 G:maj _END_ _START_ C:maj7 C:maj7 D:min7 D:min7 E:min7 E:min7 D:min7 D:min7 C:maj7 C:maj7 D:min7 D:min7 E:min7 E:min7 D:min7 D:min7 C:maj C:maj A:min7 A:min7 D:min7 D:min7 G:7 G:7 C:maj C:maj A:min7 A:min7 D:min7 D:min7 G:7 G:7 C:maj C:maj A:min7 A:min7 D:9 D:9 G:7 G:7 C:maj C:maj A:7 A:7 D:min7 D:min7 G:7 G:7(s5, *5) C:maj C:maj A:min7 A:min7 D:min7 D:min7 G:7 G:7 C:maj C:maj A:min7 A:min7 D:min7 D:min7 G:7 G:7 C:maj C:maj A:min7 A:min7 D:min7 D:min7 G:7 G:7 C:maj C:maj D:min7 D:min7 D#:dim D#:dim C:maj/3 C:maj/3 D:min7 D:min7 G:7 G:7 C:maj C:maj C#:dim C#:dim D:min7 D:min7 G:7 G:7 C:maj C:maj C:maj C:maj B:hdim B:hdim E:7 E:7 A:min7 A:min7 A:min7 A:min7 D:9 D:9 D:9 D:9 G:7 G:7 G:9(s5, *5) G:9(s5, *5) C:maj C:maj A:min7 A:min7 D:min7 D:min7 G:7 G:7 C:maj C:maj A:min7 A:min7 D:min7 D:min7 G:7 G:7 C:maj C:maj A:min7 A:min7 D:9 D:9 G:7 G:7 C:maj C:maj D#:dim D#:dim D:min7 D:min7 G:7 G:9(s5, *5) _END_ _START_ C:maj7/5 C:maj7/5 A:min7 A:min7 D:min7 D:min7 G:maj(b7, b9, 11, 13) G:maj(b7, b9.1, 11.1, 13) C:maj7 C:maj7 A:min7 A:min7 D:min7 D:min7 G:maj(b7, b9.2, 11.2, 13) G:maj(b7.1, b9.3, 11.3, 13) C:maj7 C:maj7 C:maj7 C:maj7 C:maj7 C:maj7 C:maj7 C:maj7 B:hdim B:hdim B:hdim B:hdim E:7(b9) E:7(b9) E:7(b9) E:7(b9) A:min7 A:min7 A:min7 A:min7 A:min7 A:min7 A:min7 A:min7 G:min7 G:min7 G:min7 G:min7 C:9 C:9 C:9 C:9 F:maj7 F:maj7 F:maj7 F:maj7 A#:7 A#:7 A#:7 A#:7 C:maj7 C:maj7 C:maj7 C:maj7 A:min7 A:min7 A:min7 A:min7 D:7 D:7 D:7 D:7 D:7 D:7 D:7 D:7 D:min7 D:min7 D:min7 D:min7 G:maj(b7, 9, 11.4, 13) G:maj(b7.2, 9.1, 11.5, 13) G:maj(b7.3, 9.2, 11.6, 13) G:maj(b7.4, 9.3, 11.7, 13) C:maj7 C:maj7 C:maj7 C:maj7 C:maj7 C:maj7 C:maj7 C:maj7 B:hdim B:hdim B:hdim B:hdim E:7(b9) E:7(b9) E:7(b9) E:7(b9) A:min7 A:min7 A:min7 A:min7 A:min7 A:min7 A:min7 A:min7 G:min7 G:min7 G:min7 G:min7 C:9 C:9 C:9 C:9 F:maj7 F:maj7 F:maj7 F:maj7 A#:7 A#:7 A#:7 A#:7 C:maj7 C:maj7 C:maj7 C:maj7 D:9 D:9 D#:dim D#:dim E:min7 E:min7 F:9(s11) F:9(s11) E:min7 E:min7 A:7 A:7 D:min7 D:min7 G:maj(b7, 9.4, 11.8, 13) G:maj(b7.5, 9.5, 11.9, 13) C:maj6 C:maj6 C:maj6 C:maj6 A#:9 A#:9 A#:9 A#:9 C:6(9) C:6(9) C:6(9) C:6(9) C:6(9) C:6(9) C:6(9) C:6(9) _END_ _START_ C:maj C:maj C:aug C:aug C:maj6 C:maj6 C:maj6 C:maj6 C:maj C:maj C:maj F:maj C:maj C:maj C:maj C:maj G:7 G:7 G:7 G:7 G:7 G:7 G:7 G:7 C:maj C:maj C:maj F:maj C:maj C:maj C:maj C:maj C:maj C:maj C:aug C:aug C:maj6 C:maj6 C:maj6 C:maj6 C:maj C:maj C:maj F:maj C:maj C:maj C:maj C:maj G:7 G:7 G:7 G:7 G:7 G:7 G:7 G:7 C:maj C:maj C:maj F:maj C:maj C:maj G:7 G:7 C:maj C:maj C:maj C:maj C:maj C:maj C:maj C:maj C:maj C:maj C:maj C:maj C:maj C:maj C:maj C:maj C:maj C:maj C:maj C:maj C:maj C:maj C:maj C:maj C:maj C:maj C:maj C:maj C:maj C:maj C:maj C:maj C:maj C:maj C:maj C:maj C:maj C:maj C:maj C:maj C:maj C:maj C:maj C:maj C:maj C:maj C:maj C:maj G:7 G:7 G:7 G:7 G:7 G:7 G:7 G:7 C:maj C:maj C:maj C:maj F:maj F:maj F:min F:min C:maj C:maj C:maj C:maj C:maj C:maj C:maj C:maj C:maj C:maj C:maj C:maj C:maj C:maj C:maj C:maj C:maj C:maj C:maj C:maj C:maj C:maj C:maj C:maj D#:dim D#:dim D#:dim D#:dim C:maj C:maj C:maj C:maj C:maj C:maj C:maj C:maj C:maj C:maj C:maj C:maj C:maj C:maj C:maj C:maj C:maj C:maj C:maj C:maj G:7 G:7 G:7 G:7 G:7 G:7 G:7 G:7 C:maj C:maj C:maj C:maj C:maj C:maj C:maj C:maj C:maj C:maj C:maj C:maj C:maj C:maj C:maj C:maj _END_ _START_ C:maj7 C:maj7 C:maj7 C:maj7 F:7 F:7 F:7 F:7 E:7 E:7 E:7 E:7 A:7 A:7 A:7 A:7 D:7 D:7 D:7 D:7 G:7 G:7 G:7 G:7 C:maj C:maj E:min7 A:7 D#:min7 G#:min7 D:min7 G:7 C:maj7 C:maj7 C:maj7 C:maj7 F:7 F:7 F:7 F:7 E:7 E:7 E:7 E:7 A:7 A:7 A:7 A:7 D:7 D:7 D:7 D:7 C:maj6 C:maj6 D:7 D:7 G:7 G:7 C:7 C:7 F:min7 F:min7 F:min7 F:min7 A#:7 A#:7 A#:7 A#:7 D#:maj7 D#:maj7 D#:maj7 D#:maj7 D#:7 D#:7 D#:7 D#:7 D#:min7 D#:min7 D#:min7 D#:min7 G#:7 G#:7 G#:7 G#:7 C#:maj7 C#:maj7 C#:maj7 C#:maj7 C#:7 C#:7 C#:7 C#:7 C:maj7 C:maj7 C:maj7 C:maj7 F:7 F:7 F:7 F:7 E:7 E:7 E:7 E:7 A:7 A:7 A:7 A:7 D:7 D:7 D:7 D:7 C:maj6 C:maj6 C:maj6 C:maj6 C:maj6 C:maj6 D:min7 G:7 _END_ _START_ C:maj C:maj F:maj7 F:maj7 C:min C:min F:maj7 F:maj7 C:7 C:7 F:maj F:maj C:maj C:maj F:sus4(b7) F:sus4(b7) F:maj7 F:maj7 F:maj7 F:maj7 F:7 F:7 D#:maj/5 D#:maj/5 C:maj C:maj F:sus4 F:sus4 C:maj C:maj F:maj7 F:maj7 G:7 G:7 G:sus4(b7) G:sus4(b7) F:maj F:maj F:maj F:maj C:7 C:7 F:maj7 F:maj7 C:7 C:7 C:7 C:7 C:maj C:maj F:sus4 F:sus4 C:maj C:maj F:maj F:maj C:7 C:7 C:7 C:7 C:maj C:maj F:sus4 F:sus4 F:maj7 F:maj7 F:maj7 F:maj7 F:maj F:maj D#:maj/5 D#:maj/5 C:7 C:7 F:7 F:7 C:7 C:7 C:7 C:7 G:7 G:7 G:7 G:7 F:7 F:7 F:7 F:7 C:7 C:7 F:sus4(b7) F:sus4(b7) C:7 C:7 C:7 C:7 C:maj C:maj F:maj F:maj C:maj C:maj F:sus4 F:sus4 C:7 C:7 F:sus4(b7) F:sus4(b7) C:maj C:maj F:sus4 F:sus4 F:7 F:7 F:7 F:7 F:7 F:7 D#:maj/5 D#:maj/5 C:7 C:7 C:7 C:7 C:maj7 C:maj7 F:maj7 F:maj7 G:7 G:7 G:7 G:7 F:sus4(b7) F:sus4(b7) F:sus4(b7) F:sus4(b7) C:maj C:maj F:maj7 F:maj7 C:7 C:7 C:7 C:7 C:maj C:maj F:maj F:maj C:maj C:maj C:maj/4 C:maj/4 C:7 C:7 F:sus4(b7) F:sus4(b7) C:maj C:maj F:sus4 F:sus4 F:7 F:7 A#:sus4 A#:sus4 F:7 F:7 A#:maj6 A#:maj6 C:maj C:maj F:sus4 F:sus4 C:maj7 C:maj7 F:maj7 F:maj7 G:7 G:7 D:min7 D:min7 F:maj F:maj F:maj F:maj C:7 C:7 C:7 C:7 G:min6 G:min6 G:min6 G:min6 C:7 C:7 C:7 C:7 C:7 C:7 F:sus4(b7) F:sus4(b7) C:7 C:7 C:maj/4 C:maj/4 C:7 C:7 F:sus4 F:sus4 F:7 F:7 F:7 F:7 F:7 F:7 A#:sus4 A#:sus4 C:maj C:maj F:maj7 F:maj7 C:maj C:maj F:sus4(b7) F:sus4(b7) G:7 G:7 D:min7 D:min7 F:7 F:7 F:7 F:7 C:maj7 C:maj7 F:maj7 F:maj7 C:7 C:7 C:7 C:7 C:maj6 C:maj6 F:sus4(b7) F:sus4(b7) C:7 C:7 C:7 C:7 C:7 C:7 F:maj7 F:maj7 C:maj7 C:maj7 F:sus4 F:sus4 F:7 F:7 A#:maj A#:maj F:maj7 F:maj7 A#:sus4 A#:sus4 C:7 C:7 F:maj7 F:maj7 C:maj7 C:maj7 F:sus4 F:sus4 G:7 G:7 G:7 G:7 F:maj F:maj A#:sus4 A#:sus4 C:7 C:7 C:7 C:7 C:7 C:7 G:7 G:7 C:7 C:7 C:7 C:7 C:7 C:7 F:maj F:maj C:7 C:7 C:7 C:7 C:maj7 C:maj7 D#:maj D#:maj F:7 F:7 F:7 F:7 F:7 F:7 F:7 F:7 C:7 C:7 C:7 C:7 C:7 C:7 D#:maj/2 D#:maj/2 G:7 G:7 G:7 G:7 F:maj F:maj F:maj F:maj C:7 C:7 F:sus4(b7) F:sus4(b7) C:7 C:7 C:7 C:7 C:maj C:maj F:maj F:maj C:maj C:maj C:maj/4 C:maj/4 C:7 C:7 F:sus4(b7) F:sus4(b7) C:maj C:maj F:maj7 F:maj7 F:7 F:7 F:7 F:7 F:7 F:7 F:sus4(b7) F:sus4(b7) C:7 C:7 C:7 C:7 C:maj7 C:maj7 F:maj7 F:maj7 G:min7 G:min7 G:min7 G:min7 F:7 F:7 F:7 F:7 F:sus4 F:sus4 A#:sus4 A#:sus4 C:7 C:7 C:7 C:7 C:maj7 C:maj7 C:maj7 C:maj7 _END_ _START_ A:hdim D:7(s9, s11, b13) G#:9 G#:9 G:min7 G:min7 F:min7 A#:9 D#:maj6 C:min7 F:9 F:9 A#:maj7 A#:maj7 A#:maj7 A#:maj7 A:hdim A:hdim G#:9 G#:9 G:min7 G:min7 A#:9/5 A#:9/5 E:hdim E:hdim D:7(s9, s11.1, b13) D:7(s9, s11.2, b13) G:min(b7, 9.6, 11) G:min(b7, 9.7, 11) G:min(b7.1, 9.8, 11) G:min(b7.2, 9.9, 11) A:hdim D:7(s9, s11.3, b13) G#:9 G#:9 G:min7 G:min7 F:min7 A#:9 D#:maj6 C:min7 F:9 F:9 A#:maj7 A#:maj7 A#:maj7 A#:maj7 A:hdim A:hdim G#:9 G#:9 G:min7 G:min7 A#:9/5 A#:9/5 E:hdim E:hdim D:7(s9.1, s11.4, b13) D:7(s9.1, s11.5, b13) G:min(b7.1, 9.10, 11) G:min(b7.3, 9.11, 11) G:min(b7.4, 9.12, 11) G:min(b7.5, 9.13, 11) E:7(s9, s11.6, b13) E:7(s9, s11.7, b13) A:7(s9, s11.8, b13) A:7(s9.1, s11.9, b13) D:min7 D:min7 B:hdim B:hdim E:hdim E:hdim A:7(s9, s11.10, b13) A:7(s9.2, s11.11, b13) D:min7 D:min7 D:min7 D:min7 A:hdim A:hdim G#:9 G#:9 G:min7 G:min7 A#:9/5 A#:9/5 E:hdim E:hdim D:7(s9, s11.12, b13) D:7(s9.2, s11.13, b13) G:min(b7.2, 9.14, 11) G:min(b7.6, 9.15, 11) G:min(b7.7, 9.16, 11) G:min(b7.8, 9.17, 11) A:hdim D:7(s9.1, s11.14, b13) G#:9 G#:9 G:min7 G:min7 F:min7 A#:9 D#:maj6 C:min7 F:9 F:9 A#:maj7 A#:maj7 A#:maj7 A#:maj7 A:hdim A:hdim G#:9 G#:9 G:min7 G:min7 A#:9/5 A#:9/5 E:hdim E:hdim D:7(s9.2, s11.15, b13) D:7(s9.3, s11.16, b13) G:min(b7.3, 9.18, 11) G:min(b7.9, 9.19, 11) G:min(b7.10, 9.20, 11) G:min(b7.11, 9.21, ...]\n",
       "Index: []\n",
       "\n",
       "[0 rows x 51175 columns]"
      ]
     },
     "execution_count": 18,
     "metadata": {},
     "output_type": "execute_result"
    }
   ],
   "source": [
    "jazz_path = os.path.join('~/code/emilycardwell/final-project-data', \n",
    "                         'data/raw/chord_sentences.txt')\n",
    "raw_jazz_df = pd.read_(jazz_path)\n",
    "raw_jazz_df"
   ]
  },
  {
   "cell_type": "markdown",
   "metadata": {},
   "source": [
    "## CONCAT MULTIPLE CSVs"
   ]
  },
  {
   "cell_type": "code",
   "execution_count": 4,
   "metadata": {},
   "outputs": [],
   "source": [
    "# TO DO"
   ]
  },
  {
   "cell_type": "markdown",
   "metadata": {},
   "source": [
    "## Clean DF"
   ]
  },
  {
   "cell_type": "code",
   "execution_count": 5,
   "metadata": {},
   "outputs": [],
   "source": [
    "slim_df = drop_dups_cols(raw_df)"
   ]
  },
  {
   "cell_type": "markdown",
   "metadata": {},
   "source": [
    "## Clean Chords"
   ]
  },
  {
   "cell_type": "code",
   "execution_count": 6,
   "metadata": {},
   "outputs": [],
   "source": [
    "cleaned_chords_column = clean_chords(slim_df['chords'])\n",
    "cleaned_df = slim_df.copy()\n",
    "cleaned_df['chords'] = cleaned_chords_column"
   ]
  },
  {
   "cell_type": "markdown",
   "metadata": {},
   "source": [
    "### drop duplicates based on chords and song name"
   ]
  },
  {
   "cell_type": "code",
   "execution_count": 7,
   "metadata": {},
   "outputs": [],
   "source": [
    "new_columns_df = new_columns(cleaned_df)\n",
    "\n",
    "unreplicated_df = \\\n",
    "    new_columns_df.drop_duplicates(subset=['chords_list', 'song_name'],\n",
    "                                   keep = 'last').reset_index(drop = True)\n",
    "    \n",
    "# drop unnecessary columns\n",
    "unreplicated_df.drop(columns=['song_name', 'chords_list'], inplace=True)"
   ]
  },
  {
   "cell_type": "markdown",
   "metadata": {},
   "source": [
    "## Clean Genres"
   ]
  },
  {
   "cell_type": "code",
   "execution_count": 8,
   "metadata": {},
   "outputs": [],
   "source": [
    "slim_genres = genre_cleaning(unreplicated_df['genres'])\n",
    "clean_genres_df = unreplicated_df.copy()\n",
    "clean_genres_df['genres'] = slim_genres"
   ]
  },
  {
   "cell_type": "markdown",
   "metadata": {},
   "source": [
    "## Get Song Length (chord count)"
   ]
  },
  {
   "cell_type": "code",
   "execution_count": 9,
   "metadata": {},
   "outputs": [
    {
     "data": {
      "text/html": [
       "<div>\n",
       "<style scoped>\n",
       "    .dataframe tbody tr th:only-of-type {\n",
       "        vertical-align: middle;\n",
       "    }\n",
       "\n",
       "    .dataframe tbody tr th {\n",
       "        vertical-align: top;\n",
       "    }\n",
       "\n",
       "    .dataframe thead th {\n",
       "        text-align: right;\n",
       "    }\n",
       "</style>\n",
       "<table border=\"1\" class=\"dataframe\">\n",
       "  <thead>\n",
       "    <tr style=\"text-align: right;\">\n",
       "      <th></th>\n",
       "      <th>artist_name</th>\n",
       "      <th>genres</th>\n",
       "      <th>chords</th>\n",
       "      <th>song_length</th>\n",
       "    </tr>\n",
       "  </thead>\n",
       "  <tbody>\n",
       "    <tr>\n",
       "      <th>0</th>\n",
       "      <td>Justin Bieber</td>\n",
       "      <td>pop</td>\n",
       "      <td>[G, C, G, C, G, Em, C, G, Em, C, G, Em, C, G, ...</td>\n",
       "      <td>79</td>\n",
       "    </tr>\n",
       "    <tr>\n",
       "      <th>1</th>\n",
       "      <td>Justin Bieber</td>\n",
       "      <td>pop</td>\n",
       "      <td>[F#m7, D, E, F#m7, A, E, D, E, Bm, A, D, E, F#...</td>\n",
       "      <td>56</td>\n",
       "    </tr>\n",
       "    <tr>\n",
       "      <th>2</th>\n",
       "      <td>Justin Bieber</td>\n",
       "      <td>pop</td>\n",
       "      <td>[D, C, D, Em, D, C, D, Em, D, C, Am, D, Em, G,...</td>\n",
       "      <td>107</td>\n",
       "    </tr>\n",
       "    <tr>\n",
       "      <th>3</th>\n",
       "      <td>Justin Bieber</td>\n",
       "      <td>pop</td>\n",
       "      <td>[Em, Bm, Am, C, Em, Bm, Am, C, Em, Bm, Am, C, ...</td>\n",
       "      <td>97</td>\n",
       "    </tr>\n",
       "    <tr>\n",
       "      <th>4</th>\n",
       "      <td>Justin Bieber</td>\n",
       "      <td>pop</td>\n",
       "      <td>[Gm, Dm, C, Gm, Dm, C, Gm, Dm, C, Gm, A#, Cdim...</td>\n",
       "      <td>57</td>\n",
       "    </tr>\n",
       "    <tr>\n",
       "      <th>...</th>\n",
       "      <td>...</td>\n",
       "      <td>...</td>\n",
       "      <td>...</td>\n",
       "      <td>...</td>\n",
       "    </tr>\n",
       "    <tr>\n",
       "      <th>131529</th>\n",
       "      <td>Simon &amp; Garfunkel</td>\n",
       "      <td>folk</td>\n",
       "      <td>[E, F#, E, B, F#, E, B, E, B, F#, E, C#m, E, G...</td>\n",
       "      <td>47</td>\n",
       "    </tr>\n",
       "    <tr>\n",
       "      <th>131530</th>\n",
       "      <td>Simon &amp; Garfunkel</td>\n",
       "      <td>folk</td>\n",
       "      <td>[G, Am, C, F, C, F, C, F, C, Am, G, Am, G, Am,...</td>\n",
       "      <td>59</td>\n",
       "    </tr>\n",
       "    <tr>\n",
       "      <th>131531</th>\n",
       "      <td>Simon &amp; Garfunkel</td>\n",
       "      <td>folk</td>\n",
       "      <td>[C, Dm, F, Bb, F, Bb, F, Bb, F, Dm, C, Dm, C, ...</td>\n",
       "      <td>60</td>\n",
       "    </tr>\n",
       "    <tr>\n",
       "      <th>131532</th>\n",
       "      <td>Simon &amp; Garfunkel</td>\n",
       "      <td>folk</td>\n",
       "      <td>[Em, C, G, Am, C, D, G, Em, C, G, Am, D, G, D,...</td>\n",
       "      <td>64</td>\n",
       "    </tr>\n",
       "    <tr>\n",
       "      <th>131533</th>\n",
       "      <td>Simon &amp; Garfunkel</td>\n",
       "      <td>folk</td>\n",
       "      <td>[D, F, G, F, D, F, G, F, D, F, G, F, D, F, G, ...</td>\n",
       "      <td>73</td>\n",
       "    </tr>\n",
       "  </tbody>\n",
       "</table>\n",
       "<p>131534 rows × 4 columns</p>\n",
       "</div>"
      ],
      "text/plain": [
       "              artist_name genres  \\\n",
       "0           Justin Bieber    pop   \n",
       "1           Justin Bieber    pop   \n",
       "2           Justin Bieber    pop   \n",
       "3           Justin Bieber    pop   \n",
       "4           Justin Bieber    pop   \n",
       "...                   ...    ...   \n",
       "131529  Simon & Garfunkel   folk   \n",
       "131530  Simon & Garfunkel   folk   \n",
       "131531  Simon & Garfunkel   folk   \n",
       "131532  Simon & Garfunkel   folk   \n",
       "131533  Simon & Garfunkel   folk   \n",
       "\n",
       "                                                   chords  song_length  \n",
       "0       [G, C, G, C, G, Em, C, G, Em, C, G, Em, C, G, ...           79  \n",
       "1       [F#m7, D, E, F#m7, A, E, D, E, Bm, A, D, E, F#...           56  \n",
       "2       [D, C, D, Em, D, C, D, Em, D, C, Am, D, Em, G,...          107  \n",
       "3       [Em, Bm, Am, C, Em, Bm, Am, C, Em, Bm, Am, C, ...           97  \n",
       "4       [Gm, Dm, C, Gm, Dm, C, Gm, Dm, C, Gm, A#, Cdim...           57  \n",
       "...                                                   ...          ...  \n",
       "131529  [E, F#, E, B, F#, E, B, E, B, F#, E, C#m, E, G...           47  \n",
       "131530  [G, Am, C, F, C, F, C, F, C, Am, G, Am, G, Am,...           59  \n",
       "131531  [C, Dm, F, Bb, F, Bb, F, Bb, F, Dm, C, Dm, C, ...           60  \n",
       "131532  [Em, C, G, Am, C, D, G, Em, C, G, Am, D, G, D,...           64  \n",
       "131533  [D, F, G, F, D, F, G, F, D, F, G, F, D, F, G, ...           73  \n",
       "\n",
       "[131534 rows x 4 columns]"
      ]
     },
     "execution_count": 9,
     "metadata": {},
     "output_type": "execute_result"
    }
   ],
   "source": [
    "song_len_df = song_length(clean_genres_df)\n",
    "song_len_df"
   ]
  },
  {
   "cell_type": "markdown",
   "metadata": {},
   "source": [
    "## Filter DF"
   ]
  },
  {
   "cell_type": "markdown",
   "metadata": {},
   "source": [
    "#### by song length"
   ]
  },
  {
   "cell_type": "code",
   "execution_count": 10,
   "metadata": {},
   "outputs": [],
   "source": [
    "final_df = filter_length(song_len_df)"
   ]
  },
  {
   "cell_type": "markdown",
   "metadata": {},
   "source": [
    "#### by number of samples (songs)"
   ]
  },
  {
   "cell_type": "code",
   "execution_count": 11,
   "metadata": {},
   "outputs": [],
   "source": [
    "final_df = get_songs(final_df, size=5000)"
   ]
  },
  {
   "cell_type": "markdown",
   "metadata": {},
   "source": [
    "## Send df to cvs"
   ]
  },
  {
   "cell_type": "code",
   "execution_count": 12,
   "metadata": {},
   "outputs": [],
   "source": [
    "#df_to_csv(final_df, '2', '~/code/emilycardwell/final-project-data/data/clean')"
   ]
  },
  {
   "cell_type": "markdown",
   "metadata": {},
   "source": [
    "# Utility Calls"
   ]
  },
  {
   "cell_type": "code",
   "execution_count": 13,
   "metadata": {},
   "outputs": [
    {
     "data": {
      "image/png": "[encoded data removed]",
      "text/plain": [
       "<Figure size 640x480 with 1 Axes>"
      ]
     },
     "metadata": {},
     "output_type": "display_data"
    },
    {
     "data": {
      "text/html": [
       "<div>\n",
       "<style scoped>\n",
       "    .dataframe tbody tr th:only-of-type {\n",
       "        vertical-align: middle;\n",
       "    }\n",
       "\n",
       "    .dataframe tbody tr th {\n",
       "        vertical-align: top;\n",
       "    }\n",
       "\n",
       "    .dataframe thead th {\n",
       "        text-align: right;\n",
       "    }\n",
       "</style>\n",
       "<table border=\"1\" class=\"dataframe\">\n",
       "  <thead>\n",
       "    <tr style=\"text-align: right;\">\n",
       "      <th></th>\n",
       "      <th>chord_count</th>\n",
       "    </tr>\n",
       "  </thead>\n",
       "  <tbody>\n",
       "    <tr>\n",
       "      <th>Gm5</th>\n",
       "      <td>10</td>\n",
       "    </tr>\n",
       "    <tr>\n",
       "      <th>Am5aug</th>\n",
       "      <td>10</td>\n",
       "    </tr>\n",
       "    <tr>\n",
       "      <th>Dm7b5</th>\n",
       "      <td>10</td>\n",
       "    </tr>\n",
       "    <tr>\n",
       "      <th>F#7b</th>\n",
       "      <td>10</td>\n",
       "    </tr>\n",
       "    <tr>\n",
       "      <th>Am7b5</th>\n",
       "      <td>10</td>\n",
       "    </tr>\n",
       "    <tr>\n",
       "      <th>...</th>\n",
       "      <td>...</td>\n",
       "    </tr>\n",
       "    <tr>\n",
       "      <th>F</th>\n",
       "      <td>15564</td>\n",
       "    </tr>\n",
       "    <tr>\n",
       "      <th>A</th>\n",
       "      <td>18991</td>\n",
       "    </tr>\n",
       "    <tr>\n",
       "      <th>D</th>\n",
       "      <td>24456</td>\n",
       "    </tr>\n",
       "    <tr>\n",
       "      <th>C</th>\n",
       "      <td>25049</td>\n",
       "    </tr>\n",
       "    <tr>\n",
       "      <th>G</th>\n",
       "      <td>31227</td>\n",
       "    </tr>\n",
       "  </tbody>\n",
       "</table>\n",
       "<p>150 rows × 1 columns</p>\n",
       "</div>"
      ],
      "text/plain": [
       "        chord_count\n",
       "Gm5              10\n",
       "Am5aug           10\n",
       "Dm7b5            10\n",
       "F#7b             10\n",
       "Am7b5            10\n",
       "...             ...\n",
       "F             15564\n",
       "A             18991\n",
       "D             24456\n",
       "C             25049\n",
       "G             31227\n",
       "\n",
       "[150 rows x 1 columns]"
      ]
     },
     "execution_count": 13,
     "metadata": {},
     "output_type": "execute_result"
    }
   ],
   "source": [
    "chord_count_df = count_chords(final_df, low_freq_to_remove=10, \n",
    "                              histplot=True, ascending=True)\n",
    "chord_count_df"
   ]
  },
  {
   "cell_type": "code",
   "execution_count": 14,
   "metadata": {},
   "outputs": [
    {
     "data": {
      "image/png": "[encoded data removed]",
      "text/plain": [
       "<Figure size 640x480 with 1 Axes>"
      ]
     },
     "metadata": {},
     "output_type": "display_data"
    }
   ],
   "source": [
    "genre_count_df = count_genres(final_df, histplot=True)"
   ]
  },
  {
   "cell_type": "code",
   "execution_count": 15,
   "metadata": {},
   "outputs": [
    {
     "data": {
      "image/png": "[encoded data removed]",
      "text/plain": [
       "<Figure size 640x480 with 1 Axes>"
      ]
     },
     "metadata": {},
     "output_type": "display_data"
    }
   ],
   "source": [
    "artists_df = count_artists(final_df, histplot=True)"
   ]
  }
 ],
 "metadata": {
  "kernelspec": {
   "display_name": "Python 3.10.6 64-bit ('lewagon')",
   "language": "python",
   "name": "python3"
  },
  "language_info": {
   "codemirror_mode": {
    "name": "ipython",
    "version": 3
   },
   "file_extension": ".py",
   "mimetype": "text/x-python",
   "name": "python",
   "nbconvert_exporter": "python",
   "pygments_lexer": "ipython3",
   "version": "3.10.6"
  },
  "orig_nbformat": 4,
  "vscode": {
   "interpreter": {
    "hash": "6ffc35d46f337c4201c4fad81bb678395bc2c122ed1eeab8d96f421dd7a87373"
   }
  }
 },
 "nbformat": 4,
 "nbformat_minor": 2
}
