{
 "cells": [
  {
   "cell_type": "markdown",
   "metadata": {},
   "source": [
    "# Preprocess calls"
   ]
  },
  {
   "cell_type": "markdown",
   "metadata": {},
   "source": [
    "### Imports"
   ]
  },
  {
   "cell_type": "code",
   "execution_count": 1,
   "metadata": {},
   "outputs": [],
   "source": [
    "import pandas as pd\n",
    "\n",
    "from py_files.string_cleaning import clean_chords\n",
    "from py_files.genre_cleaning import genre_cleaning\n",
    "from py_files.columns import new_columns, song_length, drop_dups_cols, expand_cols\n",
    "from py_files.get_data_slice import filter_length, get_songs\n",
    "from py_files.utils import df_to_csv, count_chords, count_genres, count_artists, \\\n",
    "                  get_csv_data, get_text_data"
   ]
  },
  {
   "cell_type": "markdown",
   "metadata": {},
   "source": [
    "## Read Data"
   ]
  },
  {
   "cell_type": "code",
   "execution_count": 2,
   "metadata": {},
   "outputs": [
    {
     "data": {
      "text/plain": [
       "135783"
      ]
     },
     "execution_count": 2,
     "metadata": {},
     "output_type": "execute_result"
    }
   ],
   "source": [
    "raw_kaggle_df = get_csv_data('kaggle_raw.csv')\n",
    "len(raw_kaggle_df)"
   ]
  },
  {
   "cell_type": "code",
   "execution_count": 3,
   "metadata": {},
   "outputs": [
    {
     "data": {
      "text/html": [
       "<div>\n",
       "<style scoped>\n",
       "    .dataframe tbody tr th:only-of-type {\n",
       "        vertical-align: middle;\n",
       "    }\n",
       "\n",
       "    .dataframe tbody tr th {\n",
       "        vertical-align: top;\n",
       "    }\n",
       "\n",
       "    .dataframe thead th {\n",
       "        text-align: right;\n",
       "    }\n",
       "</style>\n",
       "<table border=\"1\" class=\"dataframe\">\n",
       "  <thead>\n",
       "    <tr style=\"text-align: right;\">\n",
       "      <th></th>\n",
       "      <th>Unnamed: 0</th>\n",
       "      <th>artist_name</th>\n",
       "      <th>song_name</th>\n",
       "      <th>chords&amp;lyrics</th>\n",
       "      <th>chords</th>\n",
       "      <th>lyrics</th>\n",
       "      <th>tabs</th>\n",
       "      <th>lang</th>\n",
       "      <th>artist_id</th>\n",
       "      <th>followers</th>\n",
       "      <th>genres</th>\n",
       "      <th>popularity</th>\n",
       "      <th>name_e_chords</th>\n",
       "    </tr>\n",
       "  </thead>\n",
       "  <tbody>\n",
       "    <tr>\n",
       "      <th>0</th>\n",
       "      <td>0</td>\n",
       "      <td>Justin Bieber</td>\n",
       "      <td>10,000 Hours</td>\n",
       "      <td>\\nCapo on 3rd fret\\n\\t  \\t\\t \\r\\n\\r\\nVerse 1:\\...</td>\n",
       "      <td>{3: 'G             G/B                        ...</td>\n",
       "      <td>{0: '\\nCapo on 3rd fret\\n\\t  \\t\\t ', 1: '', 2:...</td>\n",
       "      <td>{89: \"I-----,  I'm gonna love you \"}</td>\n",
       "      <td>en</td>\n",
       "      <td>1uNFoZAHBGtllmzznpCI3s</td>\n",
       "      <td>44606973.0</td>\n",
       "      <td>['canadian pop', 'pop', 'post-teen pop']</td>\n",
       "      <td>100</td>\n",
       "      <td>justin-bieber</td>\n",
       "    </tr>\n",
       "    <tr>\n",
       "      <th>1</th>\n",
       "      <td>1</td>\n",
       "      <td>Justin Bieber</td>\n",
       "      <td>2 Much</td>\n",
       "      <td>\\n\\t  \\t\\t\\r\\nIntro: F#m7  D2 \\r\\n\\r\\nVerse 1:...</td>\n",
       "      <td>{1: 'Intro: F#m7  D2 ', 4: 'F#m7 ', 8: 'D2 ', ...</td>\n",
       "      <td>{0: '\\n\\t  \\t\\t', 2: '', 3: 'Verse 1:', 5: '  ...</td>\n",
       "      <td>{}</td>\n",
       "      <td>en</td>\n",
       "      <td>1uNFoZAHBGtllmzznpCI3s</td>\n",
       "      <td>44606973.0</td>\n",
       "      <td>['canadian pop', 'pop', 'post-teen pop']</td>\n",
       "      <td>100</td>\n",
       "      <td>justin-bieber</td>\n",
       "    </tr>\n",
       "    <tr>\n",
       "      <th>2</th>\n",
       "      <td>2</td>\n",
       "      <td>Justin Bieber</td>\n",
       "      <td>2u (feat. David Guetta)</td>\n",
       "      <td>\\n\\t  \\t\\t\\r\\nEm            D         C       ...</td>\n",
       "      <td>{1: 'Em            D         C               C...</td>\n",
       "      <td>{0: '\\n\\t  \\t\\t', 2: \"No limit in the sky that...</td>\n",
       "      <td>{}</td>\n",
       "      <td>en</td>\n",
       "      <td>1uNFoZAHBGtllmzznpCI3s</td>\n",
       "      <td>44606973.0</td>\n",
       "      <td>['canadian pop', 'pop', 'post-teen pop']</td>\n",
       "      <td>100</td>\n",
       "      <td>justin-bieber</td>\n",
       "    </tr>\n",
       "  </tbody>\n",
       "</table>\n",
       "</div>"
      ],
      "text/plain": [
       "   Unnamed: 0    artist_name                song_name  \\\n",
       "0           0  Justin Bieber             10,000 Hours   \n",
       "1           1  Justin Bieber                   2 Much   \n",
       "2           2  Justin Bieber  2u (feat. David Guetta)   \n",
       "\n",
       "                                       chords&lyrics  \\\n",
       "0  \\nCapo on 3rd fret\\n\\t  \\t\\t \\r\\n\\r\\nVerse 1:\\...   \n",
       "1  \\n\\t  \\t\\t\\r\\nIntro: F#m7  D2 \\r\\n\\r\\nVerse 1:...   \n",
       "2  \\n\\t  \\t\\t\\r\\nEm            D         C       ...   \n",
       "\n",
       "                                              chords  \\\n",
       "0  {3: 'G             G/B                        ...   \n",
       "1  {1: 'Intro: F#m7  D2 ', 4: 'F#m7 ', 8: 'D2 ', ...   \n",
       "2  {1: 'Em            D         C               C...   \n",
       "\n",
       "                                              lyrics  \\\n",
       "0  {0: '\\nCapo on 3rd fret\\n\\t  \\t\\t ', 1: '', 2:...   \n",
       "1  {0: '\\n\\t  \\t\\t', 2: '', 3: 'Verse 1:', 5: '  ...   \n",
       "2  {0: '\\n\\t  \\t\\t', 2: \"No limit in the sky that...   \n",
       "\n",
       "                                   tabs lang               artist_id  \\\n",
       "0  {89: \"I-----,  I'm gonna love you \"}   en  1uNFoZAHBGtllmzznpCI3s   \n",
       "1                                    {}   en  1uNFoZAHBGtllmzznpCI3s   \n",
       "2                                    {}   en  1uNFoZAHBGtllmzznpCI3s   \n",
       "\n",
       "    followers                                    genres  popularity  \\\n",
       "0  44606973.0  ['canadian pop', 'pop', 'post-teen pop']         100   \n",
       "1  44606973.0  ['canadian pop', 'pop', 'post-teen pop']         100   \n",
       "2  44606973.0  ['canadian pop', 'pop', 'post-teen pop']         100   \n",
       "\n",
       "   name_e_chords  \n",
       "0  justin-bieber  \n",
       "1  justin-bieber  \n",
       "2  justin-bieber  "
      ]
     },
     "execution_count": 3,
     "metadata": {},
     "output_type": "execute_result"
    }
   ],
   "source": [
    "raw_kaggle_df.head(3)"
   ]
  },
  {
   "cell_type": "code",
   "execution_count": 4,
   "metadata": {},
   "outputs": [
    {
     "data": {
      "text/html": [
       "<div>\n",
       "<style scoped>\n",
       "    .dataframe tbody tr th:only-of-type {\n",
       "        vertical-align: middle;\n",
       "    }\n",
       "\n",
       "    .dataframe tbody tr th {\n",
       "        vertical-align: top;\n",
       "    }\n",
       "\n",
       "    .dataframe thead th {\n",
       "        text-align: right;\n",
       "    }\n",
       "</style>\n",
       "<table border=\"1\" class=\"dataframe\">\n",
       "  <thead>\n",
       "    <tr style=\"text-align: right;\">\n",
       "      <th></th>\n",
       "      <th>genres</th>\n",
       "      <th>artist_name</th>\n",
       "      <th>chords</th>\n",
       "      <th>song_name</th>\n",
       "    </tr>\n",
       "  </thead>\n",
       "  <tbody>\n",
       "    <tr>\n",
       "      <th>1</th>\n",
       "      <td>jazz</td>\n",
       "      <td>unknown</td>\n",
       "      <td>C:maj C:maj C:maj C:maj C:maj C:maj C:maj C:m...</td>\n",
       "      <td>unknown</td>\n",
       "    </tr>\n",
       "    <tr>\n",
       "      <th>3</th>\n",
       "      <td>jazz</td>\n",
       "      <td>unknown</td>\n",
       "      <td>D#:maj D#:maj D#:maj D#:maj D#:maj D#:maj A#:...</td>\n",
       "      <td>unknown</td>\n",
       "    </tr>\n",
       "    <tr>\n",
       "      <th>5</th>\n",
       "      <td>jazz</td>\n",
       "      <td>unknown</td>\n",
       "      <td>C:maj7 C:maj7 D:min7 D:min7 E:min7 E:min7 D:m...</td>\n",
       "      <td>unknown</td>\n",
       "    </tr>\n",
       "    <tr>\n",
       "      <th>7</th>\n",
       "      <td>jazz</td>\n",
       "      <td>unknown</td>\n",
       "      <td>C:maj7/5 C:maj7/5 A:min7 A:min7 D:min7 D:min7...</td>\n",
       "      <td>unknown</td>\n",
       "    </tr>\n",
       "    <tr>\n",
       "      <th>9</th>\n",
       "      <td>jazz</td>\n",
       "      <td>unknown</td>\n",
       "      <td>C:maj C:maj C:aug C:aug C:maj6 C:maj6 C:maj6 ...</td>\n",
       "      <td>unknown</td>\n",
       "    </tr>\n",
       "    <tr>\n",
       "      <th>...</th>\n",
       "      <td>...</td>\n",
       "      <td>...</td>\n",
       "      <td>...</td>\n",
       "      <td>...</td>\n",
       "    </tr>\n",
       "    <tr>\n",
       "      <th>5683</th>\n",
       "      <td>jazz</td>\n",
       "      <td>unknown</td>\n",
       "      <td>C:min C:min C:min C:min C:min C:min F:7 F:7 C...</td>\n",
       "      <td>unknown</td>\n",
       "    </tr>\n",
       "    <tr>\n",
       "      <th>5685</th>\n",
       "      <td>jazz</td>\n",
       "      <td>unknown</td>\n",
       "      <td>G#:7(s5,*5) G#:7(s5,*5) G#:7(s5,*5) G#:7(s5,*...</td>\n",
       "      <td>unknown</td>\n",
       "    </tr>\n",
       "    <tr>\n",
       "      <th>5687</th>\n",
       "      <td>jazz</td>\n",
       "      <td>unknown</td>\n",
       "      <td>C:maj C:maj C:maj C:maj C:maj C:maj C:maj C:m...</td>\n",
       "      <td>unknown</td>\n",
       "    </tr>\n",
       "    <tr>\n",
       "      <th>5689</th>\n",
       "      <td>jazz</td>\n",
       "      <td>unknown</td>\n",
       "      <td>C:maj C:maj C:maj C:maj F:min F:min F:min F:m...</td>\n",
       "      <td>unknown</td>\n",
       "    </tr>\n",
       "    <tr>\n",
       "      <th>5691</th>\n",
       "      <td>jazz</td>\n",
       "      <td>unknown</td>\n",
       "      <td>C:maj C:maj C:maj C:maj G#:7 G#:7 G#:7 G#:7 C...</td>\n",
       "      <td>unknown</td>\n",
       "    </tr>\n",
       "  </tbody>\n",
       "</table>\n",
       "<p>2846 rows × 4 columns</p>\n",
       "</div>"
      ],
      "text/plain": [
       "     genres artist_name                                             chords  \\\n",
       "1      jazz     unknown   C:maj C:maj C:maj C:maj C:maj C:maj C:maj C:m...   \n",
       "3      jazz     unknown   D#:maj D#:maj D#:maj D#:maj D#:maj D#:maj A#:...   \n",
       "5      jazz     unknown   C:maj7 C:maj7 D:min7 D:min7 E:min7 E:min7 D:m...   \n",
       "7      jazz     unknown   C:maj7/5 C:maj7/5 A:min7 A:min7 D:min7 D:min7...   \n",
       "9      jazz     unknown   C:maj C:maj C:aug C:aug C:maj6 C:maj6 C:maj6 ...   \n",
       "...     ...         ...                                                ...   \n",
       "5683   jazz     unknown   C:min C:min C:min C:min C:min C:min F:7 F:7 C...   \n",
       "5685   jazz     unknown   G#:7(s5,*5) G#:7(s5,*5) G#:7(s5,*5) G#:7(s5,*...   \n",
       "5687   jazz     unknown   C:maj C:maj C:maj C:maj C:maj C:maj C:maj C:m...   \n",
       "5689   jazz     unknown   C:maj C:maj C:maj C:maj F:min F:min F:min F:m...   \n",
       "5691   jazz     unknown   C:maj C:maj C:maj C:maj G#:7 G#:7 G#:7 G#:7 C...   \n",
       "\n",
       "     song_name  \n",
       "1      unknown  \n",
       "3      unknown  \n",
       "5      unknown  \n",
       "7      unknown  \n",
       "9      unknown  \n",
       "...        ...  \n",
       "5683   unknown  \n",
       "5685   unknown  \n",
       "5687   unknown  \n",
       "5689   unknown  \n",
       "5691   unknown  \n",
       "\n",
       "[2846 rows x 4 columns]"
      ]
     },
     "execution_count": 4,
     "metadata": {},
     "output_type": "execute_result"
    }
   ],
   "source": [
    "raw_jazz_col = get_text_data('jazz_raw.txt')\n",
    "raw_jazz_df = expand_cols(raw_jazz_col)\n",
    "raw_jazz_df"
   ]
  },
  {
   "cell_type": "markdown",
   "metadata": {},
   "source": [
    "## Drop Duplicates and unwanted columns (only if song/artist data exists)"
   ]
  },
  {
   "cell_type": "code",
   "execution_count": 5,
   "metadata": {},
   "outputs": [
    {
     "data": {
      "text/plain": [
       "135775"
      ]
     },
     "execution_count": 5,
     "metadata": {},
     "output_type": "execute_result"
    }
   ],
   "source": [
    "slim_df = drop_dups_cols(raw_kaggle_df)\n",
    "len(slim_df)"
   ]
  },
  {
   "cell_type": "markdown",
   "metadata": {},
   "source": [
    "## Concat DFs"
   ]
  },
  {
   "cell_type": "code",
   "execution_count": 6,
   "metadata": {},
   "outputs": [
    {
     "data": {
      "text/plain": [
       "138621"
      ]
     },
     "execution_count": 6,
     "metadata": {},
     "output_type": "execute_result"
    }
   ],
   "source": [
    "concat_df = pd.concat([slim_df, raw_jazz_df], ignore_index=True)\n",
    "len(concat_df)"
   ]
  },
  {
   "cell_type": "markdown",
   "metadata": {},
   "source": [
    "## Clean Chords"
   ]
  },
  {
   "cell_type": "code",
   "execution_count": 7,
   "metadata": {},
   "outputs": [
    {
     "data": {
      "text/plain": [
       "138621"
      ]
     },
     "execution_count": 7,
     "metadata": {},
     "output_type": "execute_result"
    }
   ],
   "source": [
    "cleaned_df = concat_df.copy()\n",
    "cleaned_chords_column = clean_chords(concat_df['chords'])\n",
    "cleaned_df['chords'] = cleaned_chords_column\n",
    "len(cleaned_df)"
   ]
  },
  {
   "cell_type": "code",
   "execution_count": 8,
   "metadata": {},
   "outputs": [
    {
     "data": {
      "text/html": [
       "<div>\n",
       "<style scoped>\n",
       "    .dataframe tbody tr th:only-of-type {\n",
       "        vertical-align: middle;\n",
       "    }\n",
       "\n",
       "    .dataframe tbody tr th {\n",
       "        vertical-align: top;\n",
       "    }\n",
       "\n",
       "    .dataframe thead th {\n",
       "        text-align: right;\n",
       "    }\n",
       "</style>\n",
       "<table border=\"1\" class=\"dataframe\">\n",
       "  <thead>\n",
       "    <tr style=\"text-align: right;\">\n",
       "      <th></th>\n",
       "      <th>artist_name</th>\n",
       "      <th>genres</th>\n",
       "      <th>chords</th>\n",
       "      <th>song_name</th>\n",
       "    </tr>\n",
       "  </thead>\n",
       "  <tbody>\n",
       "    <tr>\n",
       "      <th>0</th>\n",
       "      <td>Justin Bieber</td>\n",
       "      <td>['canadian pop', 'pop', 'post-teen pop']</td>\n",
       "      <td>[G, C, G, C, G, Em, C, G, Em, C, G, Em, C, G, ...</td>\n",
       "      <td>10,000 Hours</td>\n",
       "    </tr>\n",
       "    <tr>\n",
       "      <th>1</th>\n",
       "      <td>Justin Bieber</td>\n",
       "      <td>['canadian pop', 'pop', 'post-teen pop']</td>\n",
       "      <td>[D, E, A, E, D, E, Bm, A, D, E, A, D, E, D, A,...</td>\n",
       "      <td>2 Much</td>\n",
       "    </tr>\n",
       "    <tr>\n",
       "      <th>2</th>\n",
       "      <td>Justin Bieber</td>\n",
       "      <td>['canadian pop', 'pop', 'post-teen pop']</td>\n",
       "      <td>[D, C, D, Em, D, C, D, Em, D, C, Am, D, Em, G,...</td>\n",
       "      <td>2u (feat. David Guetta)</td>\n",
       "    </tr>\n",
       "    <tr>\n",
       "      <th>3</th>\n",
       "      <td>Justin Bieber</td>\n",
       "      <td>['canadian pop', 'pop', 'post-teen pop']</td>\n",
       "      <td>[Em, Bm, Am, C, Em, Bm, Am, C, Em, Bm, Am, C, ...</td>\n",
       "      <td>All Around The World</td>\n",
       "    </tr>\n",
       "    <tr>\n",
       "      <th>4</th>\n",
       "      <td>Justin Bieber</td>\n",
       "      <td>['canadian pop', 'pop', 'post-teen pop']</td>\n",
       "      <td>[Gm, Dm, C, Gm, Dm, C, Gm, Dm, C, Gm, Cdim, Gm...</td>\n",
       "      <td>All Around The World (acoustic)</td>\n",
       "    </tr>\n",
       "    <tr>\n",
       "      <th>...</th>\n",
       "      <td>...</td>\n",
       "      <td>...</td>\n",
       "      <td>...</td>\n",
       "      <td>...</td>\n",
       "    </tr>\n",
       "    <tr>\n",
       "      <th>138616</th>\n",
       "      <td>unknown</td>\n",
       "      <td>jazz</td>\n",
       "      <td>[Cm, F7, Cm, F7, G7, D7, G7, D7, Cm, F7, Cm, F...</td>\n",
       "      <td>unknown</td>\n",
       "    </tr>\n",
       "    <tr>\n",
       "      <th>138617</th>\n",
       "      <td>unknown</td>\n",
       "      <td>jazz</td>\n",
       "      <td>[G, G, G, Gm7, C7, Fm7, A7, Dm, Dm, Dm, G, G, ...</td>\n",
       "      <td>unknown</td>\n",
       "    </tr>\n",
       "    <tr>\n",
       "      <th>138618</th>\n",
       "      <td>unknown</td>\n",
       "      <td>jazz</td>\n",
       "      <td>[C, F7, C, G7, G7, G7, G7, G7, G7, G7, G7, C, ...</td>\n",
       "      <td>unknown</td>\n",
       "    </tr>\n",
       "    <tr>\n",
       "      <th>138619</th>\n",
       "      <td>unknown</td>\n",
       "      <td>jazz</td>\n",
       "      <td>[C, Fm, C, Fm, Em7, Dm7, D7, G7, C, Em, B7, Em...</td>\n",
       "      <td>unknown</td>\n",
       "    </tr>\n",
       "    <tr>\n",
       "      <th>138620</th>\n",
       "      <td>unknown</td>\n",
       "      <td>jazz</td>\n",
       "      <td>[C, G7, C, G7, C, G7, C, G7, C, G7, C7, C, G7,...</td>\n",
       "      <td>unknown</td>\n",
       "    </tr>\n",
       "  </tbody>\n",
       "</table>\n",
       "<p>138621 rows × 4 columns</p>\n",
       "</div>"
      ],
      "text/plain": [
       "          artist_name                                    genres  \\\n",
       "0       Justin Bieber  ['canadian pop', 'pop', 'post-teen pop']   \n",
       "1       Justin Bieber  ['canadian pop', 'pop', 'post-teen pop']   \n",
       "2       Justin Bieber  ['canadian pop', 'pop', 'post-teen pop']   \n",
       "3       Justin Bieber  ['canadian pop', 'pop', 'post-teen pop']   \n",
       "4       Justin Bieber  ['canadian pop', 'pop', 'post-teen pop']   \n",
       "...               ...                                       ...   \n",
       "138616        unknown                                      jazz   \n",
       "138617        unknown                                      jazz   \n",
       "138618        unknown                                      jazz   \n",
       "138619        unknown                                      jazz   \n",
       "138620        unknown                                      jazz   \n",
       "\n",
       "                                                   chords  \\\n",
       "0       [G, C, G, C, G, Em, C, G, Em, C, G, Em, C, G, ...   \n",
       "1       [D, E, A, E, D, E, Bm, A, D, E, A, D, E, D, A,...   \n",
       "2       [D, C, D, Em, D, C, D, Em, D, C, Am, D, Em, G,...   \n",
       "3       [Em, Bm, Am, C, Em, Bm, Am, C, Em, Bm, Am, C, ...   \n",
       "4       [Gm, Dm, C, Gm, Dm, C, Gm, Dm, C, Gm, Cdim, Gm...   \n",
       "...                                                   ...   \n",
       "138616  [Cm, F7, Cm, F7, G7, D7, G7, D7, Cm, F7, Cm, F...   \n",
       "138617  [G, G, G, Gm7, C7, Fm7, A7, Dm, Dm, Dm, G, G, ...   \n",
       "138618  [C, F7, C, G7, G7, G7, G7, G7, G7, G7, G7, C, ...   \n",
       "138619  [C, Fm, C, Fm, Em7, Dm7, D7, G7, C, Em, B7, Em...   \n",
       "138620  [C, G7, C, G7, C, G7, C, G7, C, G7, C7, C, G7,...   \n",
       "\n",
       "                              song_name  \n",
       "0                          10,000 Hours  \n",
       "1                                2 Much  \n",
       "2               2u (feat. David Guetta)  \n",
       "3                  All Around The World  \n",
       "4       All Around The World (acoustic)  \n",
       "...                                 ...  \n",
       "138616                          unknown  \n",
       "138617                          unknown  \n",
       "138618                          unknown  \n",
       "138619                          unknown  \n",
       "138620                          unknown  \n",
       "\n",
       "[138621 rows x 4 columns]"
      ]
     },
     "execution_count": 8,
     "metadata": {},
     "output_type": "execute_result"
    }
   ],
   "source": [
    "cleaned_df"
   ]
  },
  {
   "cell_type": "markdown",
   "metadata": {},
   "source": [
    "### drop duplicates based on chords and song name"
   ]
  },
  {
   "cell_type": "code",
   "execution_count": 9,
   "metadata": {},
   "outputs": [],
   "source": [
    "new_columns_df = new_columns(cleaned_df)\n",
    "\n",
    "unreplicated_df = \\\n",
    "    new_columns_df.drop_duplicates(subset=['chords_list', 'song_name'],\n",
    "                                   keep = 'last').reset_index(drop = True)\n",
    "    \n",
    "# drop unnecessary columns\n",
    "unreplicated_df.drop(columns=['song_name', 'chords_list'], inplace=True)"
   ]
  },
  {
   "cell_type": "markdown",
   "metadata": {},
   "source": [
    "## Clean Genres"
   ]
  },
  {
   "cell_type": "code",
   "execution_count": 10,
   "metadata": {},
   "outputs": [],
   "source": [
    "slim_genres = genre_cleaning(unreplicated_df['genres'])\n",
    "clean_genres_df = unreplicated_df.copy()\n",
    "clean_genres_df['genres'] = slim_genres"
   ]
  },
  {
   "cell_type": "markdown",
   "metadata": {},
   "source": [
    "## Get Song Length (chord count)"
   ]
  },
  {
   "cell_type": "code",
   "execution_count": 11,
   "metadata": {},
   "outputs": [
    {
     "data": {
      "text/html": [
       "<div>\n",
       "<style scoped>\n",
       "    .dataframe tbody tr th:only-of-type {\n",
       "        vertical-align: middle;\n",
       "    }\n",
       "\n",
       "    .dataframe tbody tr th {\n",
       "        vertical-align: top;\n",
       "    }\n",
       "\n",
       "    .dataframe thead th {\n",
       "        text-align: right;\n",
       "    }\n",
       "</style>\n",
       "<table border=\"1\" class=\"dataframe\">\n",
       "  <thead>\n",
       "    <tr style=\"text-align: right;\">\n",
       "      <th></th>\n",
       "      <th>artist_name</th>\n",
       "      <th>genres</th>\n",
       "      <th>chords</th>\n",
       "      <th>song_length</th>\n",
       "    </tr>\n",
       "  </thead>\n",
       "  <tbody>\n",
       "    <tr>\n",
       "      <th>0</th>\n",
       "      <td>Justin Bieber</td>\n",
       "      <td>pop</td>\n",
       "      <td>[G, C, G, C, G, Em, C, G, Em, C, G, Em, C, G, ...</td>\n",
       "      <td>79</td>\n",
       "    </tr>\n",
       "    <tr>\n",
       "      <th>1</th>\n",
       "      <td>Justin Bieber</td>\n",
       "      <td>pop</td>\n",
       "      <td>[D, E, A, E, D, E, Bm, A, D, E, A, D, E, D, A,...</td>\n",
       "      <td>42</td>\n",
       "    </tr>\n",
       "    <tr>\n",
       "      <th>2</th>\n",
       "      <td>Justin Bieber</td>\n",
       "      <td>pop</td>\n",
       "      <td>[D, C, D, Em, D, C, D, Em, D, C, Am, D, Em, G,...</td>\n",
       "      <td>107</td>\n",
       "    </tr>\n",
       "    <tr>\n",
       "      <th>3</th>\n",
       "      <td>Justin Bieber</td>\n",
       "      <td>pop</td>\n",
       "      <td>[Em, Bm, Am, C, Em, Bm, Am, C, Em, Bm, Am, C, ...</td>\n",
       "      <td>97</td>\n",
       "    </tr>\n",
       "    <tr>\n",
       "      <th>4</th>\n",
       "      <td>Justin Bieber</td>\n",
       "      <td>pop</td>\n",
       "      <td>[Gm, Dm, C, Gm, Dm, C, Gm, Dm, C, Gm, Cdim, Gm...</td>\n",
       "      <td>49</td>\n",
       "    </tr>\n",
       "    <tr>\n",
       "      <th>...</th>\n",
       "      <td>...</td>\n",
       "      <td>...</td>\n",
       "      <td>...</td>\n",
       "      <td>...</td>\n",
       "    </tr>\n",
       "    <tr>\n",
       "      <th>134211</th>\n",
       "      <td>unknown</td>\n",
       "      <td>jazz</td>\n",
       "      <td>[Cm, F7, Cm, F7, G7, D7, G7, D7, Cm, F7, Cm, F...</td>\n",
       "      <td>41</td>\n",
       "    </tr>\n",
       "    <tr>\n",
       "      <th>134212</th>\n",
       "      <td>unknown</td>\n",
       "      <td>jazz</td>\n",
       "      <td>[G, G, G, Gm7, C7, Fm7, A7, Dm, Dm, Dm, G, G, ...</td>\n",
       "      <td>65</td>\n",
       "    </tr>\n",
       "    <tr>\n",
       "      <th>134213</th>\n",
       "      <td>unknown</td>\n",
       "      <td>jazz</td>\n",
       "      <td>[C, F7, C, G7, G7, G7, G7, G7, G7, G7, G7, C, ...</td>\n",
       "      <td>16</td>\n",
       "    </tr>\n",
       "    <tr>\n",
       "      <th>134214</th>\n",
       "      <td>unknown</td>\n",
       "      <td>jazz</td>\n",
       "      <td>[C, Fm, C, Fm, Em7, Dm7, D7, G7, C, Em, B7, Em...</td>\n",
       "      <td>28</td>\n",
       "    </tr>\n",
       "    <tr>\n",
       "      <th>134215</th>\n",
       "      <td>unknown</td>\n",
       "      <td>jazz</td>\n",
       "      <td>[C, G7, C, G7, C, G7, C, G7, C, G7, C7, C, G7,...</td>\n",
       "      <td>24</td>\n",
       "    </tr>\n",
       "  </tbody>\n",
       "</table>\n",
       "<p>134216 rows × 4 columns</p>\n",
       "</div>"
      ],
      "text/plain": [
       "          artist_name genres  \\\n",
       "0       Justin Bieber    pop   \n",
       "1       Justin Bieber    pop   \n",
       "2       Justin Bieber    pop   \n",
       "3       Justin Bieber    pop   \n",
       "4       Justin Bieber    pop   \n",
       "...               ...    ...   \n",
       "134211        unknown   jazz   \n",
       "134212        unknown   jazz   \n",
       "134213        unknown   jazz   \n",
       "134214        unknown   jazz   \n",
       "134215        unknown   jazz   \n",
       "\n",
       "                                                   chords  song_length  \n",
       "0       [G, C, G, C, G, Em, C, G, Em, C, G, Em, C, G, ...           79  \n",
       "1       [D, E, A, E, D, E, Bm, A, D, E, A, D, E, D, A,...           42  \n",
       "2       [D, C, D, Em, D, C, D, Em, D, C, Am, D, Em, G,...          107  \n",
       "3       [Em, Bm, Am, C, Em, Bm, Am, C, Em, Bm, Am, C, ...           97  \n",
       "4       [Gm, Dm, C, Gm, Dm, C, Gm, Dm, C, Gm, Cdim, Gm...           49  \n",
       "...                                                   ...          ...  \n",
       "134211  [Cm, F7, Cm, F7, G7, D7, G7, D7, Cm, F7, Cm, F...           41  \n",
       "134212  [G, G, G, Gm7, C7, Fm7, A7, Dm, Dm, Dm, G, G, ...           65  \n",
       "134213  [C, F7, C, G7, G7, G7, G7, G7, G7, G7, G7, C, ...           16  \n",
       "134214  [C, Fm, C, Fm, Em7, Dm7, D7, G7, C, Em, B7, Em...           28  \n",
       "134215  [C, G7, C, G7, C, G7, C, G7, C, G7, C7, C, G7,...           24  \n",
       "\n",
       "[134216 rows x 4 columns]"
      ]
     },
     "execution_count": 11,
     "metadata": {},
     "output_type": "execute_result"
    }
   ],
   "source": [
    "song_len_df = song_length(clean_genres_df)\n",
    "song_len_df"
   ]
  },
  {
   "cell_type": "markdown",
   "metadata": {},
   "source": [
    "## Filter DF"
   ]
  },
  {
   "cell_type": "markdown",
   "metadata": {},
   "source": [
    "#### by song length"
   ]
  },
  {
   "cell_type": "code",
   "execution_count": 12,
   "metadata": {},
   "outputs": [
    {
     "data": {
      "text/plain": [
       "125960"
      ]
     },
     "execution_count": 12,
     "metadata": {},
     "output_type": "execute_result"
    }
   ],
   "source": [
    "final_df = filter_length(song_len_df, 8)\n",
    "len(final_df)"
   ]
  },
  {
   "cell_type": "markdown",
   "metadata": {},
   "source": [
    "#### by number of samples (songs)"
   ]
  },
  {
   "cell_type": "code",
   "execution_count": 13,
   "metadata": {},
   "outputs": [],
   "source": [
    "#final_df = get_songs(final_df, size=5000)"
   ]
  },
  {
   "cell_type": "markdown",
   "metadata": {},
   "source": [
    "## Send df to cvs"
   ]
  },
  {
   "cell_type": "code",
   "execution_count": 14,
   "metadata": {},
   "outputs": [
    {
     "name": "stdout",
     "output_type": "stream",
     "text": [
      "final_df_v4.csv saved to ~/code/emilycardwell/final-project-data/data/clean\n"
     ]
    }
   ],
   "source": [
    "df_to_csv(final_df, '4', '~/code/emilycardwell/final-project-data/data/clean')"
   ]
  },
  {
   "cell_type": "markdown",
   "metadata": {},
   "source": [
    "# Utility Calls"
   ]
  },
  {
   "cell_type": "code",
   "execution_count": 15,
   "metadata": {},
   "outputs": [
    {
     "data": {
      "text/html": [
       "<div>\n",
       "<style scoped>\n",
       "    .dataframe tbody tr th:only-of-type {\n",
       "        vertical-align: middle;\n",
       "    }\n",
       "\n",
       "    .dataframe tbody tr th {\n",
       "        vertical-align: top;\n",
       "    }\n",
       "\n",
       "    .dataframe thead th {\n",
       "        text-align: right;\n",
       "    }\n",
       "</style>\n",
       "<table border=\"1\" class=\"dataframe\">\n",
       "  <thead>\n",
       "    <tr style=\"text-align: right;\">\n",
       "      <th></th>\n",
       "      <th>chord_count</th>\n",
       "    </tr>\n",
       "  </thead>\n",
       "  <tbody>\n",
       "    <tr>\n",
       "      <th>Adim7</th>\n",
       "      <td>11</td>\n",
       "    </tr>\n",
       "    <tr>\n",
       "      <th>A7b5</th>\n",
       "      <td>11</td>\n",
       "    </tr>\n",
       "    <tr>\n",
       "      <th>C#5b</th>\n",
       "      <td>11</td>\n",
       "    </tr>\n",
       "    <tr>\n",
       "      <th>Bb7#5</th>\n",
       "      <td>11</td>\n",
       "    </tr>\n",
       "    <tr>\n",
       "      <th>G5dim</th>\n",
       "      <td>11</td>\n",
       "    </tr>\n",
       "  </tbody>\n",
       "</table>\n",
       "</div>"
      ],
      "text/plain": [
       "       chord_count\n",
       "Adim7           11\n",
       "A7b5            11\n",
       "C#5b            11\n",
       "Bb7#5           11\n",
       "G5dim           11"
      ]
     },
     "execution_count": 15,
     "metadata": {},
     "output_type": "execute_result"
    }
   ],
   "source": [
    "chord_count_df = count_chords(final_df, low_freq_to_remove=10, \n",
    "                              histplot=False, ascending=True)\n",
    "chord_count_df.head(5)"
   ]
  },
  {
   "cell_type": "code",
   "execution_count": 16,
   "metadata": {},
   "outputs": [],
   "source": [
    "genre_count_df = count_genres(final_df, histplot=False)"
   ]
  },
  {
   "cell_type": "code",
   "execution_count": 17,
   "metadata": {},
   "outputs": [],
   "source": [
    "artists_df = count_artists(final_df, histplot=False)"
   ]
  }
 ],
 "metadata": {
  "kernelspec": {
   "display_name": "Python 3.10.6 64-bit ('cleaningenv')",
   "language": "python",
   "name": "python3"
  },
  "language_info": {
   "codemirror_mode": {
    "name": "ipython",
    "version": 3
   },
   "file_extension": ".py",
   "mimetype": "text/x-python",
   "name": "python",
   "nbconvert_exporter": "python",
   "pygments_lexer": "ipython3",
   "version": "3.10.6"
  },
  "orig_nbformat": 4,
  "vscode": {
   "interpreter": {
    "hash": "c1c190525d43c763f29b52539e119311a03f272df165330b7f24034aa906f840"
   }
  }
 },
 "nbformat": 4,
 "nbformat_minor": 2
}
