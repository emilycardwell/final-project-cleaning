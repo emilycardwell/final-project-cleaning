{
 "cells": [
  {
   "attachments": {},
   "cell_type": "markdown",
   "metadata": {},
   "source": [
    "# Slimming down cleaning process and make it able to take in any new data\n",
    "##### Started 14.12.22"
   ]
  },
  {
   "attachments": {},
   "cell_type": "markdown",
   "metadata": {},
   "source": [
    "### Imports"
   ]
  },
  {
   "cell_type": "code",
   "execution_count": 3,
   "metadata": {},
   "outputs": [],
   "source": [
    "import pandas as pd\n",
    "import random\n",
    "import string\n",
    "import re\n",
    "import json\n",
    "import ast\n",
    "from collections import Counter\n"
   ]
  },
  {
   "attachments": {},
   "cell_type": "markdown",
   "metadata": {},
   "source": [
    "### Getting workable DF"
   ]
  },
  {
   "cell_type": "code",
   "execution_count": 4,
   "metadata": {},
   "outputs": [
    {
     "data": {
      "text/html": [
       "<div>\n",
       "<style scoped>\n",
       "    .dataframe tbody tr th:only-of-type {\n",
       "        vertical-align: middle;\n",
       "    }\n",
       "\n",
       "    .dataframe tbody tr th {\n",
       "        vertical-align: top;\n",
       "    }\n",
       "\n",
       "    .dataframe thead th {\n",
       "        text-align: right;\n",
       "    }\n",
       "</style>\n",
       "<table border=\"1\" class=\"dataframe\">\n",
       "  <thead>\n",
       "    <tr style=\"text-align: right;\">\n",
       "      <th></th>\n",
       "      <th>Unnamed: 0</th>\n",
       "      <th>artist_name</th>\n",
       "      <th>song_name</th>\n",
       "      <th>chords&amp;lyrics</th>\n",
       "      <th>chords</th>\n",
       "      <th>lyrics</th>\n",
       "      <th>tabs</th>\n",
       "      <th>lang</th>\n",
       "      <th>artist_id</th>\n",
       "      <th>followers</th>\n",
       "      <th>genres</th>\n",
       "      <th>popularity</th>\n",
       "      <th>name_e_chords</th>\n",
       "    </tr>\n",
       "  </thead>\n",
       "  <tbody>\n",
       "    <tr>\n",
       "      <th>0</th>\n",
       "      <td>0</td>\n",
       "      <td>Justin Bieber</td>\n",
       "      <td>10,000 Hours</td>\n",
       "      <td>\\nCapo on 3rd fret\\n\\t  \\t\\t \\r\\n\\r\\nVerse 1:\\...</td>\n",
       "      <td>{3: 'G             G/B                        ...</td>\n",
       "      <td>{0: '\\nCapo on 3rd fret\\n\\t  \\t\\t ', 1: '', 2:...</td>\n",
       "      <td>{89: \"I-----,  I'm gonna love you \"}</td>\n",
       "      <td>en</td>\n",
       "      <td>1uNFoZAHBGtllmzznpCI3s</td>\n",
       "      <td>44606973.0</td>\n",
       "      <td>['canadian pop', 'pop', 'post-teen pop']</td>\n",
       "      <td>100</td>\n",
       "      <td>justin-bieber</td>\n",
       "    </tr>\n",
       "    <tr>\n",
       "      <th>1</th>\n",
       "      <td>1</td>\n",
       "      <td>Justin Bieber</td>\n",
       "      <td>2 Much</td>\n",
       "      <td>\\n\\t  \\t\\t\\r\\nIntro: F#m7  D2 \\r\\n\\r\\nVerse 1:...</td>\n",
       "      <td>{1: 'Intro: F#m7  D2 ', 4: 'F#m7 ', 8: 'D2 ', ...</td>\n",
       "      <td>{0: '\\n\\t  \\t\\t', 2: '', 3: 'Verse 1:', 5: '  ...</td>\n",
       "      <td>{}</td>\n",
       "      <td>en</td>\n",
       "      <td>1uNFoZAHBGtllmzznpCI3s</td>\n",
       "      <td>44606973.0</td>\n",
       "      <td>['canadian pop', 'pop', 'post-teen pop']</td>\n",
       "      <td>100</td>\n",
       "      <td>justin-bieber</td>\n",
       "    </tr>\n",
       "    <tr>\n",
       "      <th>2</th>\n",
       "      <td>2</td>\n",
       "      <td>Justin Bieber</td>\n",
       "      <td>2u (feat. David Guetta)</td>\n",
       "      <td>\\n\\t  \\t\\t\\r\\nEm            D         C       ...</td>\n",
       "      <td>{1: 'Em            D         C               C...</td>\n",
       "      <td>{0: '\\n\\t  \\t\\t', 2: \"No limit in the sky that...</td>\n",
       "      <td>{}</td>\n",
       "      <td>en</td>\n",
       "      <td>1uNFoZAHBGtllmzznpCI3s</td>\n",
       "      <td>44606973.0</td>\n",
       "      <td>['canadian pop', 'pop', 'post-teen pop']</td>\n",
       "      <td>100</td>\n",
       "      <td>justin-bieber</td>\n",
       "    </tr>\n",
       "  </tbody>\n",
       "</table>\n",
       "</div>"
      ],
      "text/plain": [
       "   Unnamed: 0    artist_name                song_name  \\\n",
       "0           0  Justin Bieber             10,000 Hours   \n",
       "1           1  Justin Bieber                   2 Much   \n",
       "2           2  Justin Bieber  2u (feat. David Guetta)   \n",
       "\n",
       "                                       chords&lyrics  \\\n",
       "0  \\nCapo on 3rd fret\\n\\t  \\t\\t \\r\\n\\r\\nVerse 1:\\...   \n",
       "1  \\n\\t  \\t\\t\\r\\nIntro: F#m7  D2 \\r\\n\\r\\nVerse 1:...   \n",
       "2  \\n\\t  \\t\\t\\r\\nEm            D         C       ...   \n",
       "\n",
       "                                              chords  \\\n",
       "0  {3: 'G             G/B                        ...   \n",
       "1  {1: 'Intro: F#m7  D2 ', 4: 'F#m7 ', 8: 'D2 ', ...   \n",
       "2  {1: 'Em            D         C               C...   \n",
       "\n",
       "                                              lyrics  \\\n",
       "0  {0: '\\nCapo on 3rd fret\\n\\t  \\t\\t ', 1: '', 2:...   \n",
       "1  {0: '\\n\\t  \\t\\t', 2: '', 3: 'Verse 1:', 5: '  ...   \n",
       "2  {0: '\\n\\t  \\t\\t', 2: \"No limit in the sky that...   \n",
       "\n",
       "                                   tabs lang               artist_id  \\\n",
       "0  {89: \"I-----,  I'm gonna love you \"}   en  1uNFoZAHBGtllmzznpCI3s   \n",
       "1                                    {}   en  1uNFoZAHBGtllmzznpCI3s   \n",
       "2                                    {}   en  1uNFoZAHBGtllmzznpCI3s   \n",
       "\n",
       "    followers                                    genres  popularity  \\\n",
       "0  44606973.0  ['canadian pop', 'pop', 'post-teen pop']         100   \n",
       "1  44606973.0  ['canadian pop', 'pop', 'post-teen pop']         100   \n",
       "2  44606973.0  ['canadian pop', 'pop', 'post-teen pop']         100   \n",
       "\n",
       "   name_e_chords  \n",
       "0  justin-bieber  \n",
       "1  justin-bieber  \n",
       "2  justin-bieber  "
      ]
     },
     "execution_count": 4,
     "metadata": {},
     "output_type": "execute_result"
    }
   ],
   "source": [
    "data_path = '~/code/emilycardwell/final-project-data/data/raw/kaggle_raw.csv'\n",
    "raw_df = pd.read_csv(data_path)\n",
    "raw_df.head(3)"
   ]
  },
  {
   "cell_type": "code",
   "execution_count": 5,
   "metadata": {},
   "outputs": [
    {
     "data": {
      "text/plain": [
       "{3: 'G             G/B                         C ',\n",
       " 5: '                  G ',\n",
       " 7: 'G                  G/B                         C ',\n",
       " 9: '                G ',\n",
       " 13: '         G         Em             C       G     ',\n",
       " 15: '     G        Em                C   G ',\n",
       " 19: '          G            Em        C            G    ',\n",
       " 21: '      G              Em                  C              G    ',\n",
       " 23: '      G           Em             C         G    ',\n",
       " 25: '        G            Em           C          G    ',\n",
       " 27: '           G        Em       C        G            ',\n",
       " 31: 'G             G/B                       C ',\n",
       " 33: '                 G ',\n",
       " 35: 'G                G/B                C        ',\n",
       " 37: '                G ',\n",
       " 41: '         G         Em             C       G     ',\n",
       " 43: '     G        Em                C   G ',\n",
       " 47: '          G            Em        C            G    ',\n",
       " 49: '      G              Em                  C              G    ',\n",
       " 51: '      G           Em             C         G    ',\n",
       " 53: '        G            Em           C          G    ',\n",
       " 55: '           G        Em       C        G            ',\n",
       " 57: '           G        Em       C        G            ',\n",
       " 60: 'Bridge:',\n",
       " 61: 'Bm               C ',\n",
       " 63: 'Bm            C ',\n",
       " 69: '          G            Em        C            G    ',\n",
       " 71: '      G              Em                  C              G    ',\n",
       " 73: '      G           Em             C         G    ',\n",
       " 75: '        G            Em           C          G    ',\n",
       " 77: '           G        Em       C        G            ',\n",
       " 79: '           G        Em       C               G            ',\n",
       " 84: '      G              Em                         (C) ',\n",
       " 86: 'C         G                       (G) ',\n",
       " 88: ' G  Em   C              G '}"
      ]
     },
     "execution_count": 5,
     "metadata": {},
     "output_type": "execute_result"
    }
   ],
   "source": [
    "slim_raw_df = raw_df[['artist_name', 'song_name', 'chords', 'genres', 'popularity']]\n",
    "first_raw = ast.literal_eval(slim_raw_df.loc[0, 'chords'])\n",
    "first_raw"
   ]
  },
  {
   "cell_type": "code",
   "execution_count": null,
   "metadata": {},
   "outputs": [],
   "source": [
    "    # def sub_spaces_for_reps(measure):\n",
    "    #     hole = int(max(map(len, re.findall(r'\\s+', measure))))\n",
    "        \n",
    "    #     new = r'[^\\s]+(?=\\s{2,})'\n",
    "        \n",
    "    #     dash_rep = re.sub(r'\\s{2,}', ' - ', measure)\n",
    "    #     reps_list = re.findall(new, measure)\n",
    "        \n",
    "    #     d = dash_rep\n",
    "    #     for x in reps_list:\n",
    "    #         d = re.sub('- -', x, d, 1)\n",
    "    #         d = re.sub('-', x, d, 1)\n",
    "        \n",
    "    #     return d"
   ]
  },
  {
   "cell_type": "code",
   "execution_count": 227,
   "metadata": {},
   "outputs": [],
   "source": [
    "def string_cleaning(df):\n",
    "    split_raw_df = df.copy()\n",
    "    splits = []\n",
    "        \n",
    "    for row in split_raw_df.chords:\n",
    "        row_dict = ast.literal_eval(row)\n",
    "        all_chords = []\n",
    "        \n",
    "        for mms, cc in row_dict.items():\n",
    "            all_chords.append([mms, cc])\n",
    "        \n",
    "        for i, chords in enumerate(all_chords):\n",
    "            if re.findall(r'\\S+(?=\\s*(%|2x|x2|\\s-\\s|))', chords[1]):\n",
    "                reps = re.findall(r'\\S+(?=\\s*(%|2x|x2))', chords[1])\n",
    "                for x in reps:\n",
    "                    rep = re.sub(r'%|2x|x2', x, chords[1], 1)\n",
    "            else:\n",
    "                rep = chords[1]\n",
    "            \n",
    "            p1 = re.sub(r'-+|[()|,.]', ' ', rep)\n",
    "            p2 = p1.replace('\\\\', '')\n",
    "            p = re.sub(r'\\s+$', '', p2)            \n",
    "            \n",
    "            if re.match(r'^\\s{3,}', p) and i != 0:\n",
    "                last = re.findall(r'(\\S+$)', all_chords[i-1][1])[0]\n",
    "                try:\n",
    "                    s = re.sub(r'^\\s+', f'{last} ', p)\n",
    "                except re.error:\n",
    "                    print(all_chords[i-1][1], ':', last)\n",
    "                r = re.sub(r'\\s+', ' ', s)\n",
    "                all_chords[i][1] = r\n",
    "            else:\n",
    "                s = re.sub(r'^\\s+', '', p)\n",
    "                r = re.sub(r'\\s+', ' ', s)\n",
    "                all_chords[i][1] = r\n",
    "                \n",
    "        splits.append(all_chords)\n",
    "        \n",
    "    split_raw_df.chords = splits\n",
    "    \n",
    "    return split_raw_df"
   ]
  },
  {
   "cell_type": "code",
   "execution_count": 222,
   "metadata": {},
   "outputs": [
    {
     "data": {
      "text/plain": [
       "0         {3: 'G             G/B                        ...\n",
       "1         {1: 'Intro: F#m7  D2 ', 4: 'F#m7 ', 8: 'D2 ', ...\n",
       "2         {1: 'Em            D         C               C...\n",
       "3         {4: ' Intro: Em  Bm  Am  C   (2x) ', 6: '     ...\n",
       "4         {2: 'Intro: Gm - Dm - C - C   x2 ', 5: '      ...\n",
       "                                ...                        \n",
       "135778    {0: '\n",
       "\t  \t\tB                            E ', 2...\n",
       "135779    {2: 'Intro: A5(9) ', 5: 'A5(9)                ...\n",
       "135780    {2: 'Dm                     C   ', 4: '       ...\n",
       "135781    {3: 'G             Em ', 5: '    C        G ',...\n",
       "135782    {0: '\n",
       "\t  \t\t(Intro:) D F G F   D F G F   D F G ...\n",
       "Name: chords, Length: 135783, dtype: object"
      ]
     },
     "execution_count": 222,
     "metadata": {},
     "output_type": "execute_result"
    }
   ],
   "source": [
    "# try this\n",
    "split_raw_df = string_cleaning(slim_raw_df)\n",
    "split_raw_df.chords"
   ]
  },
  {
   "cell_type": "code",
   "execution_count": 212,
   "metadata": {},
   "outputs": [
    {
     "name": "stdout",
     "output_type": "stream",
     "text": [
      "{1: 'Intro: E A B A E ', 3: 'E                                         A ', 5: 'B ', 7: 'A                            E ', 9: 'E                                          A ', 11: 'B ', 13: '         A                      E ', 16: 'C#m                                       A ', 18: 'B                             E ', 20: 'C#m                              A ', 22: 'B ', 24: '             A                      E ', 27: 'Solo ', 29: 'E                                            A ', 31: 'B ', 33: '          A                 E ', 36: 'E                                             A ', 38: '      B ', 40: '              A                     E '}\n",
      "{1: 'Intro: E A B A E ', 3: 'E                                         A ', 5: 'B ', 7: 'A                            E ', 9: 'E                                          A ', 11: 'B ', 13: '         A                      E ', 16: 'C#m                                       A ', 18: 'B                             E ', 20: 'C#m                              A ', 22: 'B ', 24: '             A                      E ', 27: 'Solo ', 29: 'E                                            A ', 31: 'B ', 33: '          A                 E ', 36: 'E                                             A ', 38: '      B ', 40: '              A                     E '}\n"
     ]
    }
   ],
   "source": [
    "r = random.randint(0, 135782)\n",
    "print(slim_raw_df.chords[r])\n",
    "print(split_raw_df.chords[r])"
   ]
  },
  {
   "attachments": {},
   "cell_type": "markdown",
   "metadata": {},
   "source": [
    "#### See Chord Frequency"
   ]
  },
  {
   "cell_type": "code",
   "execution_count": 215,
   "metadata": {},
   "outputs": [
    {
     "data": {
      "text/plain": [
       "103294"
      ]
     },
     "execution_count": 215,
     "metadata": {},
     "output_type": "execute_result"
    }
   ],
   "source": [
    "chords_counter = Counter()\n",
    "for song in split_raw_df.chords:\n",
    "    for value in song.values():\n",
    "        l = value.split(' ')\n",
    "        chords_counter.update(l)\n",
    "del chords_counter['']\n",
    "\n",
    "chord_count_df = pd.Series(dict(chords_counter)).to_frame('chord_count')\n",
    "sorted_cc_df = chord_count_df.sort_values(by='chord_count', ascending=False)\n",
    "len(sorted_cc_df)"
   ]
  },
  {
   "cell_type": "code",
   "execution_count": 216,
   "metadata": {},
   "outputs": [
    {
     "data": {
      "text/html": [
       "<div>\n",
       "<style scoped>\n",
       "    .dataframe tbody tr th:only-of-type {\n",
       "        vertical-align: middle;\n",
       "    }\n",
       "\n",
       "    .dataframe tbody tr th {\n",
       "        vertical-align: top;\n",
       "    }\n",
       "\n",
       "    .dataframe thead th {\n",
       "        text-align: right;\n",
       "    }\n",
       "</style>\n",
       "<table border=\"1\" class=\"dataframe\">\n",
       "  <thead>\n",
       "    <tr style=\"text-align: right;\">\n",
       "      <th></th>\n",
       "      <th>chord_count</th>\n",
       "    </tr>\n",
       "  </thead>\n",
       "  <tbody>\n",
       "    <tr>\n",
       "      <th>G</th>\n",
       "      <td>1029337</td>\n",
       "    </tr>\n",
       "    <tr>\n",
       "      <th>C</th>\n",
       "      <td>846337</td>\n",
       "    </tr>\n",
       "    <tr>\n",
       "      <th>D</th>\n",
       "      <td>794185</td>\n",
       "    </tr>\n",
       "    <tr>\n",
       "      <th>A</th>\n",
       "      <td>631590</td>\n",
       "    </tr>\n",
       "    <tr>\n",
       "      <th>F</th>\n",
       "      <td>511927</td>\n",
       "    </tr>\n",
       "    <tr>\n",
       "      <th>...</th>\n",
       "      <td>...</td>\n",
       "    </tr>\n",
       "    <tr>\n",
       "      <th>Gdim</th>\n",
       "      <td>7275</td>\n",
       "    </tr>\n",
       "    <tr>\n",
       "      <th>F5</th>\n",
       "      <td>7272</td>\n",
       "    </tr>\n",
       "    <tr>\n",
       "      <th>G#7</th>\n",
       "      <td>6968</td>\n",
       "    </tr>\n",
       "    <tr>\n",
       "      <th>Dsus2</th>\n",
       "      <td>6895</td>\n",
       "    </tr>\n",
       "    <tr>\n",
       "      <th>G9</th>\n",
       "      <td>6763</td>\n",
       "    </tr>\n",
       "  </tbody>\n",
       "</table>\n",
       "<p>100 rows × 1 columns</p>\n",
       "</div>"
      ],
      "text/plain": [
       "       chord_count\n",
       "G          1029337\n",
       "C           846337\n",
       "D           794185\n",
       "A           631590\n",
       "F           511927\n",
       "...            ...\n",
       "Gdim          7275\n",
       "F5            7272\n",
       "G#7           6968\n",
       "Dsus2         6895\n",
       "G9            6763\n",
       "\n",
       "[100 rows x 1 columns]"
      ]
     },
     "execution_count": 216,
     "metadata": {},
     "output_type": "execute_result"
    }
   ],
   "source": [
    "sorted_cc_df.head(100)"
   ]
  },
  {
   "cell_type": "code",
   "execution_count": null,
   "metadata": {},
   "outputs": [],
   "source": [
    "letters = list(string.ascii_uppercase)[:7]\n",
    "non_chord_filter = [chord for chord in sorted_cc_df.index if chord[0] in letters]\n",
    "cc_df = sorted_cc_df[sorted_cc_df.index.isin(non_chord_filter)]\n",
    "\n",
    "# pd.set_option('display.max_rows', 1190)\n",
    "## sorted_cc_df.head(70*17)\n",
    "pd.set_option('display.max_rows', 100)\n",
    "cc_df.iloc[100:200]"
   ]
  },
  {
   "cell_type": "code",
   "execution_count": null,
   "metadata": {},
   "outputs": [],
   "source": [
    "# slim_chord_counts_dict = {}\n",
    "# for chord, count in chords_count_dict.items():\n",
    "#     if count <= low_freq_to_remove:\n",
    "#         pass\n",
    "#     else:\n",
    "#         slim_chord_counts_dict[chord] = count"
   ]
  },
  {
   "attachments": {},
   "cell_type": "markdown",
   "metadata": {},
   "source": [
    "## Creating List of Correctly Formatted Chords"
   ]
  },
  {
   "cell_type": "code",
   "execution_count": null,
   "metadata": {},
   "outputs": [],
   "source": [
    "major_chords = ['C', 'C#', 'Db', 'D', 'D#', 'Eb', 'E', 'F', 'F#', 'Gb', 'G', 'G#', 'Ab', 'A', 'A#', 'Bb', 'B']"
   ]
  },
  {
   "cell_type": "code",
   "execution_count": null,
   "metadata": {},
   "outputs": [],
   "source": [
    "chords_df = pd.DataFrame(index=['', 'm', 'dim', 'aug', '5', 'aug5', '5b7',\n",
    "                                'dim7', 'hdim7', 'm7', 'm-M7', '7', 'aug7', 'M7',  \n",
    "                                'm9', '9', '7b9',  'M9', 'm11', '11',\n",
    "                                'add2', 'add4', 'add6', 'add9', \n",
    "                                'madd2', 'madd4', 'madd6', 'madd9', \n",
    "                                '7add4', '7addb6', '7add6', \n",
    "                                'msus2', 'msus4', '7sus2', '7sus4', 'sus2', 'sus4'\n",
    "                                ],\n",
    "                         columns=major_chords)\n"
   ]
  },
  {
   "cell_type": "code",
   "execution_count": null,
   "metadata": {},
   "outputs": [],
   "source": [
    "for idx in chords_df.index:\n",
    "    new_chords = [m + idx for m in major_chords]\n",
    "    chords_df.loc[idx, :] = new_chords\n",
    "chords_df.rename(index={'': 'major'}, inplace=True)\n",
    "chords_df.head(3)"
   ]
  },
  {
   "cell_type": "code",
   "execution_count": null,
   "metadata": {},
   "outputs": [],
   "source": [
    "sharp_notes = ['C', 'C#', 'D', 'D#', 'E', 'F', 'F#', 'G', 'G#', 'A', 'A#', 'B', \n",
    "                'C', 'C#', 'D', 'D#', 'E', 'F', 'F#', 'G', 'G#', 'A', 'A#', 'B']\n",
    "flats_notes = ['C', 'Db', 'D', 'Eb', 'E', 'F', 'Gb', 'G', 'Ab', 'A', 'Bb', 'B', \n",
    "                'C', 'Db', 'D', 'Eb', 'E', 'F', 'Gb', 'G', 'Ab', 'A', 'Bb', 'B']\n",
    "sharp_keys = ['D', 'E', 'G', 'A', 'B', 'Dm', 'Em', 'Fm', 'Bm']\n",
    "flats_keys = ['C', 'F', 'Cm', 'Gm', 'Am']\n",
    "\n",
    "slash_indexes = ['dim/b7', 'm/2', 'm/b3', 'm/3', 'm/4', 'm/5', 'm/6','m/b7', 'm/7',\n",
    "                'm7/b3', 'm7/4', 'm7/b5', 'm7/5', 'm7/7', \n",
    "                '/2', '/b3', '/3', '/4', '/5', '/6','/b7', '/7', \n",
    "                '7/b2', '7/2', '7/b3', '7/3', '7/4', '7/5', '7/b6', '7/6','7/7', \n",
    "                '9/b3', '9/3', '9/4', '9/5', '9/6', '9/7',\n",
    "                'M7/2', 'M7/b3', 'M7/3', 'M7/4', 'M7/5', 'M7/6','M7/b7']\n",
    "\n",
    "whole_to_half = {'b2': 1, '2': 2, 'b3': 3, '3': 4, '4': 5, 'b5': 6,\n",
    "                 '5': 7, 'b6': 8,'6': 9, 'b7': 10, '7': 11}"
   ]
  },
  {
   "cell_type": "code",
   "execution_count": null,
   "metadata": {},
   "outputs": [],
   "source": [
    "# big function\n",
    "def get_slash_notes(slash_indexes, columns):\n",
    "    slash_chord = pd.DataFrame(index=slash_indexes, columns=columns)\n",
    "    i = 0 \n",
    "    \n",
    "    def find_slash(chord, notes, i):\n",
    "        for si in slash_indexes:\n",
    "            s = si.split('/')\n",
    "            h = whole_to_half[s[1]]\n",
    "            sc = f'{chord}{s[0]}/{notes[i+h]}'\n",
    "            slash_chord.loc[si, chord] = sc\n",
    "    \n",
    "    def sort_f_s(chord, notes):\n",
    "        for n in notes:\n",
    "            if len(chord) > 1:\n",
    "                i = notes.index(chord)\n",
    "                find_slash(chord, notes, i)\n",
    "            else:\n",
    "                i = notes.index(chord[0])\n",
    "                find_slash(chord, notes, i)\n",
    "    \n",
    "    for chord in columns:\n",
    "        if chord in sharp_keys or '#' in chord:\n",
    "            sort_f_s(chord, sharp_notes)\n",
    "        else:\n",
    "            sort_f_s(chord, flats_notes)\n",
    "                \n",
    "            \n",
    "    return slash_chord"
   ]
  },
  {
   "cell_type": "code",
   "execution_count": null,
   "metadata": {},
   "outputs": [],
   "source": [
    "slash_chords_df = pd.concat([chords_df, get_slash_notes(slash_indexes, chords_df.columns)])\n",
    "slash_chords_df"
   ]
  },
  {
   "attachments": {},
   "cell_type": "markdown",
   "metadata": {},
   "source": [
    "## Shove chords into correct format"
   ]
  },
  {
   "cell_type": "code",
   "execution_count": null,
   "metadata": {},
   "outputs": [],
   "source": [
    "substitutions = {'maj': '', ',': '', 'º': 'dim', '*': 'dim', '5+': 'aug', '7M': 'M7',\n",
    "                 'maj7': 'M7', 'm7b5': 'hdim7', 'm7+': 'm-M7', '7+': 'aug7', \n",
    "                 '79': '9', 'm5-/7': 'dim/b7', '711': '7add4', '7b13': '7addb6', \n",
    "                 '713': '7add6', '4/7/9': '9add4', '69': '9add6', '/9-': '/b2', \n",
    "                 '/9': '/2', '/5-': '/b5', '/13-': '/b6', '/5+': '/b6', '/13': '/6',\n",
    "                 '2': 'add2', '4': 'add4', '6': 'add6', 'sus': 'sus4'\n",
    "                 }"
   ]
  },
  {
   "cell_type": "code",
   "execution_count": null,
   "metadata": {},
   "outputs": [],
   "source": [
    "def merge_chords(chords_column):\n",
    "    chords_column_copy = chords_column.copy()\n",
    "    merged_chords = []\n",
    "    rejected = []\n",
    "    added = []\n",
    "    \n",
    "    # compare against df\n",
    "    def counters(chord):\n",
    "        if chord in slash_chords_df.columns:\n",
    "            added.append(chord)\n",
    "        elif chord in slash_chords_df.values:\n",
    "            print(chord, 'in_df')\n",
    "            added.append(chord)\n",
    "        else:\n",
    "            print(chord, 'womp')\n",
    "            rejected.append(f'{chord}-f')\n",
    "        return \n",
    "    \n",
    "    # if keys in subs in chord, replace with values\n",
    "    def check_subs(chord):\n",
    "        for k, s in substitutions.items():\n",
    "            if k in chord: \n",
    "                print(k, chord)\n",
    "                ch_sub = chord.replace(k, s)\n",
    "                print(ch_sub, 'subbed')\n",
    "                return ch_sub\n",
    "            else:\n",
    "                return chord\n",
    "    \n",
    "    for song in chords_column_copy:\n",
    "        merged_song = {}\n",
    "        for m, chords in song.items():\n",
    "            measure = chords.split()\n",
    "            for idx, ch in enumerate(measure):\n",
    "                            \n",
    "                            # START HERE\n",
    "\n",
    "                if idx == 0 and m == ?:\n",
    "                    chs = check_subs(ch)\n",
    "                    counters(chs)\n",
    "                    measure[idx] = chs\n",
    "                else:\n",
    "                    chs = check_subs(ch)\n",
    "                    counters(chs)\n",
    "                    measure[idx] = chs                \n",
    "            merged_song[m] = measure\n",
    "        merged_chords.append(merged_song)\n",
    "    \n",
    "    added_c = Counter(added)\n",
    "    rejects_c = Counter(rejected)\n",
    "    \n",
    "    added_df = pd.Series(dict(added_c)).to_frame('added').sort_values(by='added', ascending=False)\n",
    "    rejects_df = pd.Series(dict(rejects_c)).to_frame('rejects').sort_values(by='rejects', ascending=False)\n",
    " \n",
    "    return pd.DataFrame(merged_chords).T, added_df, rejects_df"
   ]
  },
  {
   "cell_type": "code",
   "execution_count": null,
   "metadata": {},
   "outputs": [],
   "source": [
    "# merged, rejects, adds = merge_chords(split_raw_df.chords[0])\n",
    "split_raw_df.chords[0]"
   ]
  },
  {
   "cell_type": "code",
   "execution_count": null,
   "metadata": {},
   "outputs": [],
   "source": []
  },
  {
   "attachments": {},
   "cell_type": "markdown",
   "metadata": {},
   "source": [
    "#### For next time:\n",
    "- fix rejects (reject) tag"
   ]
  },
  {
   "cell_type": "code",
   "execution_count": null,
   "metadata": {},
   "outputs": [],
   "source": [
    "rejects_counter = Counter()\n",
    "for r in rejects:\n",
    "    for value in song.values():\n",
    "        l = value.split(' ')\n",
    "        chords_counter.update(l)\n",
    "\n",
    "rejects_df = pd.Series(dict(rejects_counter)).to_frame('rejects')\n",
    "sorted_rej_df = rejects_df.sort_values(by='rejects', ascending=False)\n",
    "sorted_rej_df"
   ]
  },
  {
   "cell_type": "code",
   "execution_count": null,
   "metadata": {},
   "outputs": [],
   "source": [
    "# # big function\n",
    "# def translate_slashes(slash_indexes, columns):\n",
    "#     slash_chord = pd.DataFrame(index=slash_indexes, columns=columns)\n",
    "#     i = 0 \n",
    "    \n",
    "#     def find_slash(chord, notes, i):\n",
    "#         for si in slash_indexes:\n",
    "#             s = si.split('/')\n",
    "#             h = whole_to_half[s[1]]\n",
    "#             sc = f'{chord}{s[0]}/{notes[i+h]}'\n",
    "#             slash_chord.loc[si, chord] = sc\n",
    "    \n",
    "#     def sort_f_s(chord, notes):\n",
    "#         for n in notes:\n",
    "#             if n in chord :\n",
    "#                 i = notes.index(chord[0])\n",
    "#                 find_slash(chord, notes, i)\n",
    "#             elif len(chord) > 1:\n",
    "#                 if '#' == chord[1]:\n",
    "#                     i = sharp_notes.index(chord[:2])\n",
    "#                     find_slash(chord, sharp_notes, i)\n",
    "#                 elif 'b' == chord[1]:\n",
    "#                     i = flats_notes.index(chord[:2])\n",
    "#                     find_slash(chord, flats_notes, i)\n",
    "    \n",
    "#     for chord in columns:\n",
    "#         sort_f_s(chord, sharp_notes)\n",
    "#         sort_f_s(chord, flats_notes)\n",
    "                \n",
    "            \n",
    "#     return slash_chord"
   ]
  },
  {
   "cell_type": "code",
   "execution_count": null,
   "metadata": {},
   "outputs": [],
   "source": [
    "# slash_chords_df = pd.concat([chords_df, get_slash_notes(slash_indexes, chords_df.columns)])\n"
   ]
  }
 ],
 "metadata": {
  "kernelspec": {
   "display_name": "cleaningenv",
   "language": "python",
   "name": "python3"
  },
  "language_info": {
   "codemirror_mode": {
    "name": "ipython",
    "version": 3
   },
   "file_extension": ".py",
   "mimetype": "text/x-python",
   "name": "python",
   "nbconvert_exporter": "python",
   "pygments_lexer": "ipython3",
   "version": "3.10.6"
  },
  "orig_nbformat": 4,
  "vscode": {
   "interpreter": {
    "hash": "c1c190525d43c763f29b52539e119311a03f272df165330b7f24034aa906f840"
   }
  }
 },
 "nbformat": 4,
 "nbformat_minor": 2
}
