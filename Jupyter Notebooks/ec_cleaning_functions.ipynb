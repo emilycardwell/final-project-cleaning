{
 "cells": [
  {
   "cell_type": "code",
   "execution_count": 4,
   "metadata": {},
   "outputs": [],
   "source": [
    "import pandas as pd\n",
    "import string\n",
    "import matplotlib.pyplot as plt\n",
    "import seaborn as sns\n",
    "from collections import Counter\n",
    "import numpy as np"
   ]
  },
  {
   "cell_type": "code",
   "execution_count": null,
   "metadata": {},
   "outputs": [],
   "source": [
    "kaggle_raw_df = pd.read_csv('./data/raw/chords_and_lyrics.csv')\n",
    "kaggle_slim_df = kaggle_raw_df.loc[:, ['artist_name', 'genres', 'chords']]"
   ]
  },
  {
   "cell_type": "code",
   "execution_count": 2,
   "metadata": {},
   "outputs": [],
   "source": [
    "def remove_symbols(chords):\n",
    "    uninverted_chords = []\n",
    "    \n",
    "    for chord in chords:\n",
    "        if \"/\" in chord:\n",
    "            uninverted_chords.append(chord.split(\"/\")[0])\n",
    "        elif \"'\" in chord:\n",
    "            uninverted_chords.append(chord.split(\"'\")[0])\n",
    "        elif \",\" in chord:\n",
    "            uninverted_chords.append(chord.split(\",\")[0])\n",
    "        elif \"-\" in chord:\n",
    "            uninverted_chords.append(chord.split(\"-\")[0])\n",
    "        elif \"t\" in chord:\n",
    "            uninverted_chords.append(chord.split(\"t\")[0])\n",
    "        elif \"(\" in chord:\n",
    "            uninverted_chords.append(chord.split(\"(\")[0])\n",
    "        elif \")\" in chord:\n",
    "            uninverted_chords.append(chord.split(\")\")[0])\n",
    "        elif \"\\\\\" in chord:\n",
    "            uninverted_chords.append(chord.split(\"\\\\\")[0])\n",
    "        elif \"|\" in chord:\n",
    "            uninverted_chords.append(chord.split(\"|\")[0])\n",
    "        elif \"~\" in chord:\n",
    "            uninverted_chords.append(chord.split(\"~\")[0])\n",
    "        else:\n",
    "            uninverted_chords.append(chord)\n",
    "            \n",
    "    return uninverted_chords"
   ]
  },
  {
   "cell_type": "code",
   "execution_count": null,
   "metadata": {},
   "outputs": [],
   "source": [
    "def merge_symbols(chords):\n",
    "    merged_chords = []\n",
    "    \n",
    "    for chord in chords:\n",
    "        if \"*\" in chord:\n",
    "            respelled_chord = chord.replace('*', 'dim')\n",
    "        elif \"°\" in chord:\n",
    "            respelled_chord = chord.replace('°', 'dim')\n",
    "        elif \"+\" in chord:\n",
    "            respelled_chord = chord.replace('+', 'aug')\n",
    "        elif \"minor\" in chord:\n",
    "            respelled_chord = chord.replace('minor', 'm')\n",
    "        elif \"min\" in chord:\n",
    "            respelled_chord = chord.replace('min', 'm')\n",
    "        elif \"major\" in chord:\n",
    "            respelled_chord = chord.replace('major', '')\n",
    "        elif \"maj\" in chord:\n",
    "            respelled_chord = chord.replace('maj', '')\n",
    "        else:\n",
    "            respelled_chord = chord\n",
    "            \n",
    "        merged_chords.append(respelled_chord)\n",
    "    \n",
    "    return merged_chords"
   ]
  },
  {
   "cell_type": "code",
   "execution_count": 3,
   "metadata": {},
   "outputs": [],
   "source": [
    "def clean_chords(chords_column):\n",
    "    \n",
    "    letters = list(string.ascii_uppercase)[:7]\n",
    "    cleaned = []\n",
    "    \n",
    "    for row in chords_column:\n",
    "        # Convert string to list of strings\n",
    "        song_list = row.split()\n",
    "\n",
    "        # Only chords that begin with designated letters\n",
    "        raw_chords = [chord for chord in song_list if chord[0] in letters]\n",
    "        \n",
    "        # remove symbols\n",
    "        unsymboled_chords = remove_symbols(raw_chords)\n",
    "        \n",
    "        # merge chords into same format\n",
    "        merged_chords = merge_symbols(unsymboled_chords)\n",
    "        \n",
    "        # Remove repeated chords\n",
    "        non_repeating_chords = []\n",
    "        for idx, chord in enumerate(merged_chords):\n",
    "            if idx == 0:\n",
    "                non_repeating_chords.append(chord)\n",
    "            elif merged_chords[idx - 1] != merged_chords[idx]:\n",
    "                non_repeating_chords.append(chord)\n",
    "            else:\n",
    "                pass\n",
    "        \n",
    "        cleaned.append(non_repeating_chords)\n",
    "        \n",
    "    return cleaned"
   ]
  },
  {
   "cell_type": "code",
   "execution_count": null,
   "metadata": {},
   "outputs": [],
   "source": [
    "splits = clean_chords(kaggle_slim_df['chords'])\n",
    "kaggle_cleaned_df = kaggle_slim_df\n",
    "kaggle_cleaned_df['chords'] = splits"
   ]
  },
  {
   "cell_type": "code",
   "execution_count": null,
   "metadata": {},
   "outputs": [],
   "source": [
    "def count_chords(cleaned_df):\n",
    "\n",
    "    chords_count_dict = {}\n",
    "    \n",
    "    for song in kaggle_cleaned_df['chords']:\n",
    "        song_dict = dict(Counter(song))\n",
    "        for chord, count in song_dict.items():\n",
    "            if chord in chords_count_dict:\n",
    "                chords_count_dict[chord] = chords_count_dict[chord] + count\n",
    "            else:\n",
    "                chords_count_dict[chord] = count\n",
    "                \n",
    "    return chords_count_dict"
   ]
  },
  {
   "cell_type": "code",
   "execution_count": null,
   "metadata": {},
   "outputs": [],
   "source": [
    "chords_dict = count_chords(kaggle_cleaned_df)\n",
    "sns.histplot(data=chords_dict, bins=100)"
   ]
  },
  {
   "cell_type": "code",
   "execution_count": null,
   "metadata": {},
   "outputs": [],
   "source": [
    "def reduce_low_count(chord_count_dict):\n",
    "    '''Only use this one if you have too many chords that happen only a few times,\n",
    "        you can see in the distribution in the above graph'''\n",
    "    slim_chord_counts_dict = {}\n",
    "    for chord, count in chord_count_dict.items():\n",
    "        if count < 20:\n",
    "            pass\n",
    "        else:\n",
    "            slim_chord_counts_dict[chord] = count\n",
    "    \n",
    "    return slim_chord_counts_dict"
   ]
  },
  {
   "cell_type": "code",
   "execution_count": null,
   "metadata": {},
   "outputs": [],
   "source": [
    "slim_chord_count_dict = reduce_low_count(chords_dict)\n",
    "chord_count_df = pd.Series(slim_chord_count_dict).to_frame('chord_count')\n",
    "chord_count_df"
   ]
  }
 ],
 "metadata": {
  "kernelspec": {
   "display_name": "Python 3.10.6 64-bit ('lewagon')",
   "language": "python",
   "name": "python3"
  },
  "language_info": {
   "codemirror_mode": {
    "name": "ipython",
    "version": 3
   },
   "file_extension": ".py",
   "mimetype": "text/x-python",
   "name": "python",
   "nbconvert_exporter": "python",
   "pygments_lexer": "ipython3",
   "version": "3.10.6"
  },
  "orig_nbformat": 4,
  "vscode": {
   "interpreter": {
    "hash": "6ffc35d46f337c4201c4fad81bb678395bc2c122ed1eeab8d96f421dd7a87373"
   }
  }
 },
 "nbformat": 4,
 "nbformat_minor": 2
}
